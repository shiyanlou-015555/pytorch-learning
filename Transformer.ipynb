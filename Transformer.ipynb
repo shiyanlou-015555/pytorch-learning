{
 "cells": [
  {
   "attachments": {},
   "cell_type": "markdown",
   "metadata": {
    "graffitiCellId": "id_he9lhbo",
    "id": "B4FB8FF6BA054AE9ABB9FB6650847729",
    "jupyter": {},
    "mdEditEnable": false,
    "slideshow": {
     "slide_type": "slide"
    },
    "tags": []
   },
   "source": [
    "# Transformer\n",
    "\n",
    "在之前的章节中，我们已经介绍了主流的神经网络架构如卷积神经网络（CNNs）和循环神经网络（RNNs）。让我们进行一些回顾：\n",
    "\n",
    "- CNNs 易于并行化，却不适合捕捉变长序列内的依赖关系。\n",
    "- RNNs 适合捕捉长距离变长序列的依赖，但是却难以实现并行化处理序列。\n",
    "\n",
    "为了整合CNN和RNN的优势，[\\[Vaswani et al., 2017\\]](https://d2l.ai/chapter_references/zreferences.html#vaswani-shazeer-parmar-ea-2017) 创新性地使用注意力机制设计了Transformer模型。该模型利用attention机制实现了并行化捕捉序列依赖，并且同时处理序列的每个位置的tokens，上述优势使得Transformer模型在性能优异的同时大大减少了训练时间。\n",
    "\n",
    "图10.3.1展示了Transformer模型的架构，与9.7节的seq2seq模型相似，Transformer同样基于编码器-解码器架构，其区别主要在于以下三点：\n",
    "1. Transformer blocks：将seq2seq模型重的循环网络替换为了Transformer Blocks，该模块包含一个多头注意力层（Multi-head Attention Layers）以及两个position-wise feed-forward networks（FFN）。对于解码器来说，另一个多头注意力层被用于接受编码器的隐藏状态。\n",
    "2. Add and norm：多头注意力层和前馈网络的输出被送到两个“add and norm”层进行处理，该层包含残差结构以及层归一化。\n",
    "3. Position encoding：由于自注意力层并没有区分元素的顺序，所以一个位置编码层被用于向序列元素里添加位置信息。\n",
    "\n",
    "![Fig. 10.3.1 The Transformer architecture.](https://cdn.kesci.com/upload/image/q5kpbj2cj5.png?imageView2/0/w/960/h/960)\n",
    "\n",
    "$$\n",
    "Fig.10.3.1\\ Transformer 架构.\n",
    "$$\n",
    "\n",
    "\n",
    "在接下来的部分，我们将会带领大家实现Transformer里全新的子结构，并且构建一个神经机器翻译模型用以训练和测试。"
   ]
  },
  {
   "cell_type": "code",
   "execution_count": 1,
   "metadata": {
    "graffitiCellId": "id_lyizjfl",
    "id": "27895557063B415E88AE1B50D61591EE",
    "jupyter": {},
    "scrolled": false,
    "slideshow": {
     "slide_type": "slide"
    },
    "tags": []
   },
   "outputs": [],
   "source": [
    "import os\n",
    "import math\n",
    "import numpy as np\n",
    "import torch \n",
    "import torch.nn as nn\n",
    "import torch.nn.functional as F\n",
    "import sys\n",
    "sys.path.append('/home/kesci/input/d2len9900')\n",
    "import d2l"
   ]
  },
  {
   "cell_type": "markdown",
   "metadata": {
    "graffitiCellId": "id_qh897q7",
    "id": "EBA491AE83684E379EFC443D6ECD02AD",
    "jupyter": {},
    "mdEditEnable": false,
    "slideshow": {
     "slide_type": "slide"
    },
    "tags": []
   },
   "source": [
    "以下是复制了上一小节中 masked softmax 实现，这里就不再赘述了。"
   ]
  },
  {
   "cell_type": "code",
   "execution_count": 2,
   "metadata": {
    "graffitiCellId": "id_qrh3n7g",
    "id": "FC8FDB3160A948EA87012C0479714887",
    "jupyter": {},
    "scrolled": false,
    "slideshow": {
     "slide_type": "slide"
    },
    "tags": []
   },
   "outputs": [],
   "source": [
    "def SequenceMask(X, X_len,value=-1e6):\n",
    "    maxlen = X.size(1)\n",
    "    X_len = X_len.to(X.device)\n",
    "    #print(X.size(),torch.arange((maxlen),dtype=torch.float)[None, :],'\\n',X_len[:, None] )\n",
    "    mask = torch.arange((maxlen), dtype=torch.float, device=X.device)\n",
    "    mask = mask[None, :] < X_len[:, None]\n",
    "    #print(mask)\n",
    "    X[~mask]=value\n",
    "    return X\n",
    "\n",
    "def masked_softmax(X, valid_length):\n",
    "    # X: 3-D tensor, valid_length: 1-D or 2-D tensor\n",
    "    softmax = nn.Softmax(dim=-1)\n",
    "    if valid_length is None:\n",
    "        return softmax(X)\n",
    "    else:\n",
    "        shape = X.shape\n",
    "        if valid_length.dim() == 1:\n",
    "            try:\n",
    "                valid_length = torch.FloatTensor(valid_length.numpy().repeat(shape[1], axis=0))#[2,2,3,3]\n",
    "            except:\n",
    "                valid_length = torch.FloatTensor(valid_length.cpu().numpy().repeat(shape[1], axis=0))#[2,2,3,3]\n",
    "        else:\n",
    "            valid_length = valid_length.reshape((-1,))\n",
    "        # fill masked elements with a large negative, whose exp is 0\n",
    "        X = SequenceMask(X.reshape((-1, shape[-1])), valid_length)\n",
    " \n",
    "        return softmax(X).reshape(shape)\n",
    "\n",
    "# Save to the d2l package.\n",
    "class DotProductAttention(nn.Module): \n",
    "    def __init__(self, dropout, **kwargs):\n",
    "        super(DotProductAttention, self).__init__(**kwargs)\n",
    "        self.dropout = nn.Dropout(dropout)\n",
    "\n",
    "    # query: (batch_size, #queries, d)\n",
    "    # key: (batch_size, #kv_pairs, d)\n",
    "    # value: (batch_size, #kv_pairs, dim_v)\n",
    "    # valid_length: either (batch_size, ) or (batch_size, xx)\n",
    "    def forward(self, query, key, value, valid_length=None):\n",
    "        d = query.shape[-1]\n",
    "        # set transpose_b=True to swap the last two dimensions of key\n",
    "        scores = torch.bmm(query, key.transpose(1,2)) / math.sqrt(d)\n",
    "        attention_weights = self.dropout(masked_softmax(scores, valid_length))\n",
    "        return torch.bmm(attention_weights, value)"
   ]
  },
  {
   "attachments": {},
   "cell_type": "markdown",
   "metadata": {
    "graffitiCellId": "id_bimjldk",
    "id": "DC958EB387A046F9861833718978DDBE",
    "jupyter": {},
    "mdEditEnable": false,
    "slideshow": {
     "slide_type": "slide"
    },
    "tags": []
   },
   "source": [
    "## 多头注意力层\n",
    "\n",
    "在我们讨论多头注意力层之前，先来迅速理解以下自注意力（self-attention）的结构。自注意力模型是一个正规的注意力模型，序列的每一个元素对应的key，value，query是完全一致的。如图10.3.2 自注意力输出了一个与输入长度相同的表征序列，与循环神经网络相比，自注意力对每个元素输出的计算是并行的，所以我们可以高效的实现这个模块。\n",
    "\n",
    "![Fig. 10.3.2 自注意力结构](https://cdn.kesci.com/upload/image/q5kpckv38q.png?imageView2/0/w/320/h/320)\n",
    "\n",
    "$$\n",
    "Fig.10.3.2\\ 自注意力结构\n",
    "$$\n",
    "\n",
    "\n",
    "多头注意力层包含$h$个并行的自注意力层，每一个这种层被成为一个head。对每个头来说，在进行注意力计算之前，我们会将query、key和value用三个现行层进行映射，这$h$个注意力头的输出将会被拼接之后输入最后一个线性层进行整合。\n",
    "\n",
    "![Image Name](https://cdn.kesci.com/upload/image/q5kpcsozid.png?imageView2/0/w/640/h/640)\n",
    "\n",
    "$$\n",
    "Fig.10.3.3\\ 多头注意力\n",
    "$$\n",
    "\n",
    "\n",
    "假设query，key和value的维度分别是$d_q$、$d_k$和$d_v$。那么对于每一个头$i=1,\\ldots,h$，我们可以训练相应的模型权重$W_q^{(i)} \\in \\mathbb{R}^{p_q\\times d_q}$、$W_k^{(i)} \\in \\mathbb{R}^{p_k\\times d_k}$和$W_v^{(i)} \\in \\mathbb{R}^{p_v\\times d_v}$，以得到每个头的输出：\n",
    "\n",
    "\n",
    "$$\n",
    "o^{(i)} = attention(W_q^{(i)}q, W_k^{(i)}k, W_v^{(i)}v)\n",
    "$$\n",
    "\n",
    "\n",
    "这里的attention可以是任意的attention function，比如前一节介绍的dot-product attention以及MLP attention。之后我们将所有head对应的输出拼接起来，送入最后一个线性层进行整合，这个层的权重可以表示为$W_o\\in \\mathbb{R}^{d_0 \\times hp_v}$\n",
    "\n",
    "\n",
    "$$\n",
    "o = W_o[o^{(1)}, \\ldots, o^{(h)}]\n",
    "$$\n",
    "\n",
    "\n",
    "接下来我们就可以来实现多头注意力了，假设我们有h个头，隐藏层权重 $hidden\\_size = p_q = p_k = p_v$ 与query，key，value的维度一致。除此之外，因为多头注意力层保持输入与输出张量的维度不变，所以输出feature的维度也设置为 $d_0 = hidden\\_size$。"
   ]
  },
  {
   "cell_type": "code",
   "execution_count": 26,
   "metadata": {
    "graffitiCellId": "id_39i6msf",
    "id": "77DA0FFB2D2E4A7C83FBCEEE64D69DE4",
    "jupyter": {},
    "scrolled": false,
    "slideshow": {
     "slide_type": "slide"
    },
    "tags": []
   },
   "outputs": [],
   "source": [
    "#多头注意力\n",
    "class MultiHeadAttention(nn.Module):\n",
    "    def __init__(self, input_size, hidden_size, num_heads, dropout, **kwargs):\n",
    "        # 输入特征是５，隐藏层９，３个头\n",
    "        super(MultiHeadAttention, self).__init__(**kwargs)\n",
    "        self.num_heads = num_heads\n",
    "        self.attention = DotProductAttention(dropout)# 丢弃层\n",
    "        self.W_q = nn.Linear(input_size, hidden_size, bias=False)\n",
    "        self.W_k = nn.Linear(input_size, hidden_size, bias=False)\n",
    "        self.W_v = nn.Linear(input_size, hidden_size, bias=False)\n",
    "        self.W_o = nn.Linear(hidden_size, hidden_size, bias=False)\n",
    "    \n",
    "    def forward(self, query, key, value, valid_length):\n",
    "        # query, key, and value shape: (batch_size, seq_len, dim),\n",
    "        # where seq_len is the length of input sequence\n",
    "        # valid_length shape is either (batch_size, )\n",
    "        # or (batch_size, seq_len).\n",
    "\n",
    "        # Project and transpose query, key, and value from\n",
    "        # (batch_size, seq_len, hidden_size * num_heads) to\n",
    "        # (batch_size * num_heads, seq_len, hidden_size).\n",
    "        \n",
    "        query = transpose_qkv(self.W_q(query), self.num_heads)# [2,4,9]->[6,4,3]\n",
    "        key = transpose_qkv(self.W_k(key), self.num_heads)\n",
    "        value = transpose_qkv(self.W_v(value), self.num_heads)\n",
    "        # print(query.shape)\n",
    "        #softmax层\n",
    "        if valid_length is not None:\n",
    "            # Copy valid_length by num_heads times\n",
    "            device = valid_length.device\n",
    "            valid_length = valid_length.cpu().numpy() if valid_length.is_cuda else valid_length.numpy()\n",
    "            if valid_length.ndim == 1:\n",
    "                valid_length = torch.FloatTensor(np.tile(valid_length, self.num_heads))\n",
    "            else:\n",
    "                valid_length = torch.FloatTensor(np.tile(valid_length, (self.num_heads,1)))\n",
    "\n",
    "            valid_length = valid_length.to(device)\n",
    "            \n",
    "        output = self.attention(query, key, value, valid_length)\n",
    "        output_concat = transpose_output(output, self.num_heads)\n",
    "        # print(output_concat.shape,1)\n",
    "        return self.W_o(output_concat)"
   ]
  },
  {
   "cell_type": "code",
   "execution_count": 43,
   "metadata": {
    "graffitiCellId": "id_mlvtr3b",
    "id": "E5580A1C9FFB434094200A8CBF1F31F6",
    "jupyter": {},
    "scrolled": false,
    "slideshow": {
     "slide_type": "slide"
    },
    "tags": []
   },
   "outputs": [],
   "source": [
    "def transpose_qkv(X, num_heads):\n",
    "    # Original X shape: (batch_size, seq_len, hidden_size * num_heads),\n",
    "    # -1 means inferring its value, after first reshape, X shape:\n",
    "    # (batch_size, seq_len, num_heads, hidden_size)\n",
    "    # print(Ｘ.shape,1)\n",
    "    X = X.view(X.shape[0], X.shape[1], num_heads, -1)\n",
    "    # print(X.shape)\n",
    "    # After transpose, X shape: (batch_size, num_heads, seq_len, hidden_size)\n",
    "    X = X.transpose(2, 1).contiguous()\n",
    "    # print(X.shape)\n",
    "    # Merge the first two dimensions. Use reverse=True to infer shape from\n",
    "    # right to left.\n",
    "    # output shape: (batch_size * num_heads, seq_len, hidden_size)\n",
    "    output = X.view(-1, X.shape[2], X.shape[3])\n",
    "    # print(output.shape)\n",
    "    return output\n",
    "\n",
    "\n",
    "# Saved in the d2l package for later use\n",
    "def transpose_output(X, num_heads):\n",
    "    # A reversed version of transpose_qkv\n",
    "    # print(X.shape,1)\n",
    "    X = X.view(-1, num_heads, X.shape[1], X.shape[2])\n",
    "    X = X.transpose(2, 1).contiguous()\n",
    "    return X.view(X.shape[0], X.shape[1], -1)"
   ]
  },
  {
   "cell_type": "code",
   "execution_count": 33,
   "metadata": {
    "graffitiCellId": "id_gjfsirw",
    "id": "165195251F95481C87506682632ECAA0",
    "jupyter": {},
    "scrolled": false,
    "slideshow": {
     "slide_type": "slide"
    },
    "tags": []
   },
   "outputs": [
    {
     "name": "stdout",
     "output_type": "stream",
     "text": [
      "torch.Size([6, 4, 3]) 1\n"
     ]
    },
    {
     "data": {
      "text/plain": [
       "torch.Size([2, 4, 9])"
      ]
     },
     "execution_count": 33,
     "metadata": {},
     "output_type": "execute_result"
    }
   ],
   "source": [
    "cell = MultiHeadAttention(5, 9, 3, 0.5)\n",
    "# 输入特征是５，隐藏层９，３个头\n",
    "X = torch.ones((2, 4, 5))\n",
    "valid_length = torch.FloatTensor([2, 3])\n",
    "cell(X, X, X, valid_length).shape"
   ]
  },
  {
   "cell_type": "markdown",
   "metadata": {
    "id": "C7AEDB4E391D42749715D8885AF98119",
    "jupyter": {},
    "mdEditEnable": false,
    "slideshow": {
     "slide_type": "slide"
    },
    "tags": []
   },
   "source": [
    "\n",
    "![Fig. 10.3.1 The Transformer architecture.](https://cdn.kesci.com/upload/image/q5kpbj2cj5.png?imageView2/0/w/960/h/960)"
   ]
  },
  {
   "cell_type": "markdown",
   "metadata": {
    "graffitiCellId": "id_5l05rc9",
    "id": "81A5959A3ED0424CA0B4670CBDFF9E9D",
    "jupyter": {},
    "mdEditEnable": false,
    "slideshow": {
     "slide_type": "slide"
    },
    "tags": []
   },
   "source": [
    "# 基于位置的前馈网络\n",
    "\n",
    "Transformer 模块另一个非常重要的部分就是基于位置的前馈网络（FFN），它接受一个形状为（batch_size，seq_length, feature_size）的三维张量。Position-wise FFN由两个全连接层组成，他们作用在最后一维上。因为序列的每个位置的状态都会被单独地更新，所以我们称他为position-wise，这等效于一个1x1的卷积。\n",
    "\n",
    "下面我们来实现PositionWiseFFN："
   ]
  },
  {
   "cell_type": "code",
   "execution_count": 31,
   "metadata": {
    "graffitiCellId": "id_qpr6dwm",
    "id": "7D631C416175432C8E15C0949EEAADD8",
    "jupyter": {},
    "scrolled": false,
    "slideshow": {
     "slide_type": "slide"
    },
    "tags": []
   },
   "outputs": [],
   "source": [
    "# Save to the d2l package.\n",
    "class PositionWiseFFN(nn.Module):\n",
    "    def __init__(self, input_size, ffn_hidden_size, hidden_size_out, **kwargs):\n",
    "        # 输入４，第一层４，第二层输出８\n",
    "        super(PositionWiseFFN, self).__init__(**kwargs)\n",
    "        self.ffn_1 = nn.Linear(input_size, ffn_hidden_size)\n",
    "        self.ffn_2 = nn.Linear(ffn_hidden_size, hidden_size_out)\n",
    "        # 两个全连接层\n",
    "        \n",
    "    def forward(self, X):\n",
    "        return self.ffn_2(F.relu(self.ffn_1(X)))\n",
    "        #中间激活函数relu"
   ]
  },
  {
   "cell_type": "markdown",
   "metadata": {
    "graffitiCellId": "id_sy1n984",
    "id": "77B18910C4A84157888CA6AAD1CDA7F2",
    "jupyter": {},
    "mdEditEnable": false,
    "slideshow": {
     "slide_type": "slide"
    },
    "tags": []
   },
   "source": [
    "与多头注意力层相似，FFN层同样只会对最后一维的大小进行改变；除此之外，对于两个完全相同的输入，FFN层的输出也将相等。"
   ]
  },
  {
   "cell_type": "code",
   "execution_count": 32,
   "metadata": {
    "graffitiCellId": "id_rt2wg6w",
    "id": "342DB0217414477AA49EAE019D18A40B",
    "jupyter": {},
    "scrolled": false,
    "slideshow": {
     "slide_type": "slide"
    },
    "tags": []
   },
   "outputs": [
    {
     "name": "stdout",
     "output_type": "stream",
     "text": [
      "tensor([[[-0.0781, -0.2738,  0.3770, -0.5318, -0.5640,  0.6472, -0.5768,\n",
      "           0.1377],\n",
      "         [-0.0781, -0.2738,  0.3770, -0.5318, -0.5640,  0.6472, -0.5768,\n",
      "           0.1377],\n",
      "         [-0.0781, -0.2738,  0.3770, -0.5318, -0.5640,  0.6472, -0.5768,\n",
      "           0.1377]],\n",
      "\n",
      "        [[-0.0781, -0.2738,  0.3770, -0.5318, -0.5640,  0.6472, -0.5768,\n",
      "           0.1377],\n",
      "         [-0.0781, -0.2738,  0.3770, -0.5318, -0.5640,  0.6472, -0.5768,\n",
      "           0.1377],\n",
      "         [-0.0781, -0.2738,  0.3770, -0.5318, -0.5640,  0.6472, -0.5768,\n",
      "           0.1377]]], grad_fn=<AddBackward0>) torch.Size([2, 3, 8])\n"
     ]
    }
   ],
   "source": [
    "ffn = PositionWiseFFN(4, 4, 8)\n",
    "out = ffn(torch.ones((2,3,4)))\n",
    "\n",
    "print(out, out.shape)"
   ]
  },
  {
   "cell_type": "markdown",
   "metadata": {
    "graffitiCellId": "id_vqmu7c7",
    "id": "A4F17C69EF4B40E885CAD7B3E537952E",
    "jupyter": {},
    "mdEditEnable": false,
    "slideshow": {
     "slide_type": "slide"
    },
    "tags": []
   },
   "source": [
    "## Add and Norm\n",
    "\n",
    "除了上面两个模块之外，Transformer还有一个重要的相加归一化层，它可以平滑地整合输入和其他层的输出，因此我们在每个多头注意力层和FFN层后面都添加一个含残差连接的Layer Norm层。这里 Layer Norm 与7.5小节的Batch Norm很相似，唯一的区别在于Batch Norm是对于batch size这个维度进行计算均值和方差的，而Layer Norm则是对最后一维进行计算。层归一化可以防止层内的数值变化过大，从而有利于加快训练速度并且提高泛化性能。 [(ref)](https://zhuanlan.zhihu.com/p/54530247)"
   ]
  },
  {
   "cell_type": "code",
   "execution_count": 34,
   "metadata": {
    "graffitiCellId": "id_5aer6fc",
    "id": "9EA6172929A949B0ADDF5D3C9AA4DD26",
    "jupyter": {},
    "scrolled": false,
    "slideshow": {
     "slide_type": "slide"
    },
    "tags": []
   },
   "outputs": [
    {
     "name": "stdout",
     "output_type": "stream",
     "text": [
      "layer norm: tensor([[-1.0000,  1.0000],\n",
      "        [-1.0000,  1.0000]], grad_fn=<NativeLayerNormBackward>)\n",
      "batch norm: tensor([[-1.0000, -1.0000],\n",
      "        [ 1.0000,  1.0000]], grad_fn=<NativeBatchNormBackward>)\n"
     ]
    }
   ],
   "source": [
    "layernorm = nn.LayerNorm(normalized_shape=2, elementwise_affine=True)\n",
    "batchnorm = nn.BatchNorm1d(num_features=2, affine=True)\n",
    "X = torch.FloatTensor([[1,2], [3,4]])\n",
    "print('layer norm:', layernorm(X))\n",
    "print('batch norm:', batchnorm(X))"
   ]
  },
  {
   "cell_type": "code",
   "execution_count": 36,
   "metadata": {
    "graffitiCellId": "id_2pmvrcv",
    "id": "F613FA3D7F634598832BFA21F4BE23F4",
    "jupyter": {},
    "scrolled": false,
    "slideshow": {
     "slide_type": "slide"
    },
    "tags": []
   },
   "outputs": [],
   "source": [
    "# Save to the d2l package.\n",
    "class AddNorm(nn.Module):\n",
    "    def __init__(self, hidden_size, dropout, **kwargs):\n",
    "        super(AddNorm, self).__init__(**kwargs)\n",
    "        self.dropout = nn.Dropout(dropout)\n",
    "        self.norm = nn.LayerNorm(hidden_size)\n",
    "        # 0.5的概率抹去\n",
    "    \n",
    "    def forward(self, X, Y):\n",
    "        return self.norm(self.dropout(Y) + X)"
   ]
  },
  {
   "cell_type": "markdown",
   "metadata": {
    "graffitiCellId": "id_o2cxg9q",
    "id": "6B61136E6BD445BC994009529C93D75B",
    "jupyter": {},
    "mdEditEnable": false,
    "slideshow": {
     "slide_type": "slide"
    },
    "tags": []
   },
   "source": [
    "由于残差连接，X和Y需要有相同的维度。"
   ]
  },
  {
   "cell_type": "code",
   "execution_count": 35,
   "metadata": {
    "graffitiCellId": "id_ji2koe2",
    "id": "1031B32CEFB344F28BA2505954195AD3",
    "jupyter": {},
    "scrolled": false,
    "slideshow": {
     "slide_type": "slide"
    },
    "tags": []
   },
   "outputs": [
    {
     "data": {
      "text/plain": [
       "torch.Size([2, 3, 4])"
      ]
     },
     "execution_count": 35,
     "metadata": {},
     "output_type": "execute_result"
    }
   ],
   "source": [
    "add_norm = AddNorm(4, 0.5)\n",
    "add_norm(torch.ones((2,3,4)), torch.ones((2,3,4))).shape"
   ]
  },
  {
   "attachments": {},
   "cell_type": "markdown",
   "metadata": {
    "graffitiCellId": "id_qqem3ml",
    "id": "438B44D7FE7540F589AF4833D148F58A",
    "jupyter": {},
    "mdEditEnable": false,
    "slideshow": {
     "slide_type": "slide"
    },
    "tags": []
   },
   "source": [
    "## 位置编码\n",
    "\n",
    "与循环神经网络不同，无论是多头注意力网络还是前馈神经网络都是独立地对每个位置的元素进行更新，这种特性帮助我们实现了高效的并行，却丢失了重要的序列顺序的信息。为了更好的捕捉序列信息，Transformer模型引入了位置编码去保持输入序列元素的位置。\n",
    "\n",
    "假设输入序列的嵌入表示 $X\\in \\mathbb{R}^{l\\times d}$, 序列长度为$l$嵌入向量维度为$d$，则其位置编码为$P \\in \\mathbb{R}^{l\\times d}$ ，输出的向量就是二者相加 $X + P$。\n",
    "\n",
    "位置编码是一个二维的矩阵，i对应着序列中的顺序，j对应其embedding vector内部的维度索引。我们可以通过以下等式计算位置编码：\n",
    "\n",
    "$$\n",
    "P_{i,2j} = sin(i/10000^{2j/d})\n",
    "$$\n",
    "\n",
    "\n",
    "$$\n",
    "P_{i,2j+1} = cos(i/10000^{2j/d})\n",
    "$$\n",
    "\n",
    "$$\n",
    "for\\ i=0,\\ldots, l-1\\ and\\ j=0,\\ldots,\\lfloor (d-1)/2 \\rfloor\n",
    "$$\n",
    "\n",
    "\n",
    "![Image Name](https://cdn.kesci.com/upload/image/q5kpe0lu38.png?imageView2/0/w/640/h/640)\n",
    "\n",
    "$$\n",
    "Fig. 10.3.4\\ 位置编码\n",
    "$$\n"
   ]
  },
  {
   "cell_type": "code",
   "execution_count": 37,
   "metadata": {
    "graffitiCellId": "id_xbbsd1x",
    "id": "A3322BF25A5446FEA39FEDBB230A60FD",
    "jupyter": {},
    "scrolled": false,
    "slideshow": {
     "slide_type": "slide"
    },
    "tags": []
   },
   "outputs": [],
   "source": [
    "class PositionalEncoding(nn.Module):\n",
    "    def __init__(self, embedding_size, dropout, max_len=1000):\n",
    "        super(PositionalEncoding, self).__init__()\n",
    "        self.dropout = nn.Dropout(dropout)# 这里不删除\n",
    "        self.P = np.zeros((1, max_len, embedding_size))\n",
    "        X = np.arange(0, max_len).reshape(-1, 1) / np.power(\n",
    "            10000, np.arange(0, embedding_size, 2)/embedding_size)\n",
    "        self.P[:, :, 0::2] = np.sin(X)\n",
    "        self.P[:, :, 1::2] = np.cos(X)\n",
    "        self.P = torch.FloatTensor(self.P)\n",
    "    \n",
    "    def forward(self, X):\n",
    "        if X.is_cuda and not self.P.is_cuda:\n",
    "            self.P = self.P.cuda()\n",
    "        X = X + self.P[:, :X.shape[1], :]\n",
    "        return self.dropout(X)"
   ]
  },
  {
   "cell_type": "markdown",
   "metadata": {
    "graffitiCellId": "id_9bq3vbt",
    "id": "ADDEE760DA9B414E82922FF417DC4ACC",
    "jupyter": {},
    "mdEditEnable": false,
    "slideshow": {
     "slide_type": "slide"
    },
    "tags": []
   },
   "source": [
    "### 测试\n",
    "\n",
    "下面我们用PositionalEncoding这个类进行一个小测试，取其中的四个维度进行可视化。 我们可以看到，第4维和第5维有相同的频率但偏置不同。第6维和第7维具有更低的频率；因此positional encoding对于不同维度具有可区分性。"
   ]
  },
  {
   "cell_type": "code",
   "execution_count": 38,
   "metadata": {
    "graffitiCellId": "id_kn0kaqb",
    "id": "CDB21A80016E43A284D08F0D93E562F4",
    "jupyter": {},
    "scrolled": false,
    "slideshow": {
     "slide_type": "slide"
    },
    "tags": []
   },
   "outputs": [
    {
     "data": {
      "text/html": [
       "<img src=\"https://cdn.kesci.com/rt_upload/CDB21A80016E43A284D08F0D93E562F4/q5upe4eu0j.svg\">"
      ],
      "text/plain": [
       "<Figure size 432x180 with 1 Axes>"
      ]
     },
     "metadata": {
      "needs_background": "light"
     },
     "output_type": "display_data"
    }
   ],
   "source": [
    "import numpy as np\n",
    "pe = PositionalEncoding(20, 0)\n",
    "Y = pe(torch.zeros((1, 100, 20))).numpy()\n",
    "d2l.plot(np.arange(100), Y[0, :, 4:8].T, figsize=(6, 2.5),\n",
    "         legend=[\"dim %d\" % p for p in [4, 5, 6, 7]])"
   ]
  },
  {
   "cell_type": "markdown",
   "metadata": {
    "graffitiCellId": "id_knvpqhj",
    "id": "561622A8895741218D8E531708111761",
    "jupyter": {},
    "mdEditEnable": false,
    "slideshow": {
     "slide_type": "slide"
    },
    "tags": []
   },
   "source": [
    "# 编码器\n",
    "\n",
    "我们已经有了组成Transformer的各个模块，现在我们可以开始搭建了！编码器包含一个多头注意力层，一个position-wise FFN，和两个 Add and Norm层。对于attention模型以及FFN模型，我们的输出维度都是与embedding维度一致的，这也是由于残差连接天生的特性导致的，因为我们要将前一层的输出与原始输入相加并归一化。"
   ]
  },
  {
   "cell_type": "code",
   "execution_count": 44,
   "metadata": {
    "graffitiCellId": "id_x22v188",
    "id": "D783201E79D043439F3E7C10D0F5003C",
    "jupyter": {},
    "scrolled": false,
    "slideshow": {
     "slide_type": "slide"
    },
    "tags": []
   },
   "outputs": [],
   "source": [
    "# 按照流程图中的形式进行处理\n",
    "class EncoderBlock(nn.Module):\n",
    "    def __init__(self, embedding_size, ffn_hidden_size, num_heads,\n",
    "                 dropout, **kwargs):\n",
    "        super(EncoderBlock, self).__init__(**kwargs)\n",
    "# batch_size = 2, seq_len = 100, embedding_size = 24\n",
    "# ffn_hidden_size = 48, num_head = 8, dropout = 0.5\n",
    "        self.attention = MultiHeadAttention(embedding_size, embedding_size, num_heads, dropout)\n",
    "        self.addnorm_1 = AddNorm(embedding_size, dropout)\n",
    "        self.ffn = PositionWiseFFN(embedding_size, ffn_hidden_size, embedding_size)\n",
    "        self.addnorm_2 = AddNorm(embedding_size, dropout)\n",
    "\n",
    "    def forward(self, X, valid_length):\n",
    "        Y = self.addnorm_1(X, self.attention(X, X, X, valid_length))\n",
    "        return self.addnorm_2(Y, self.ffn(Y))"
   ]
  },
  {
   "cell_type": "code",
   "execution_count": 45,
   "metadata": {
    "graffitiCellId": "id_j3zhyr4",
    "id": "8071DC6CEC654D2A9061D83C13505F36",
    "jupyter": {},
    "scrolled": false,
    "slideshow": {
     "slide_type": "slide"
    },
    "tags": []
   },
   "outputs": [
    {
     "data": {
      "text/plain": [
       "torch.Size([2, 100, 24])"
      ]
     },
     "execution_count": 45,
     "metadata": {},
     "output_type": "execute_result"
    }
   ],
   "source": [
    "# batch_size = 2, seq_len = 100, embedding_size = 24\n",
    "# ffn_hidden_size = 48, num_head = 8, dropout = 0.5\n",
    "\n",
    "X = torch.ones((2, 100, 24))\n",
    "encoder_blk = EncoderBlock(24, 48, 8, 0.5)\n",
    "encoder_blk(X, valid_length).shape"
   ]
  },
  {
   "cell_type": "markdown",
   "metadata": {
    "graffitiCellId": "id_nfzu463",
    "id": "979499A856FB4FB5AA491F56C6D901C1",
    "jupyter": {},
    "mdEditEnable": false,
    "slideshow": {
     "slide_type": "slide"
    },
    "tags": []
   },
   "source": [
    "现在我们来实现整个Transformer 编码器模型，整个编码器由n个刚刚定义的Encoder Block堆叠而成，因为残差连接的缘故，中间状态的维度始终与嵌入向量的维度d一致；同时注意到我们把嵌入向量乘以 $\\sqrt{d}$ 以防止其值过小。"
   ]
  },
  {
   "cell_type": "code",
   "execution_count": 46,
   "metadata": {
    "graffitiCellId": "id_zbq9tjf",
    "id": "22138781EF594DAD80EB068E33A0B292",
    "jupyter": {},
    "scrolled": false,
    "slideshow": {
     "slide_type": "slide"
    },
    "tags": []
   },
   "outputs": [],
   "source": [
    "class TransformerEncoder(d2l.Encoder):\n",
    "    def __init__(self, vocab_size, embedding_size, ffn_hidden_size,\n",
    "                 num_heads, num_layers, dropout, **kwargs):\n",
    "        super(TransformerEncoder, self).__init__(**kwargs)\n",
    "        self.embedding_size = embedding_size\n",
    "        self.embed = nn.Embedding(vocab_size, embedding_size)\n",
    "        self.pos_encoding = PositionalEncoding(embedding_size, dropout)\n",
    "        self.blks = nn.ModuleList()\n",
    "        # 多层输入\n",
    "        for i in range(num_layers):\n",
    "            self.blks.append(\n",
    "                EncoderBlock(embedding_size, ffn_hidden_size,\n",
    "                             num_heads, dropout))\n",
    "\n",
    "    def forward(self, X, valid_length, *args):\n",
    "        X = self.pos_encoding(self.embed(X) * math.sqrt(self.embedding_size))\n",
    "        for blk in self.blks:\n",
    "            X = blk(X, valid_length)\n",
    "        # blk是原来sequential添加多层\n",
    "        return X"
   ]
  },
  {
   "cell_type": "code",
   "execution_count": 47,
   "metadata": {
    "graffitiCellId": "id_vx2hsaf",
    "id": "2D50EE7D0CC24C3C9562EBAA5C51FF08",
    "jupyter": {},
    "scrolled": false,
    "slideshow": {
     "slide_type": "slide"
    },
    "tags": []
   },
   "outputs": [
    {
     "data": {
      "text/plain": [
       "torch.Size([2, 100, 24])"
      ]
     },
     "execution_count": 47,
     "metadata": {},
     "output_type": "execute_result"
    }
   ],
   "source": [
    "# test encoder\n",
    "encoder = TransformerEncoder(200, 24, 48, 8, 2, 0.5)\n",
    "#  vocab_size=200, embedding_size=24, ffn_hidden_size=48,num_heads=8, num_layers=2, dropout=0.5\n",
    "encoder(torch.ones((2, 100)).long(), valid_length).shape"
   ]
  },
  {
   "attachments": {},
   "cell_type": "markdown",
   "metadata": {
    "graffitiCellId": "id_9iqru6k",
    "id": "44C56AEAA91F4798913D0445EC5970C4",
    "jupyter": {},
    "mdEditEnable": false,
    "slideshow": {
     "slide_type": "slide"
    },
    "tags": []
   },
   "source": [
    "# 解码器\n",
    "Transformer 模型的解码器与编码器结构类似，然而，除了之前介绍的几个模块之外，编码器部分有另一个子模块。该模块也是多头注意力层，接受编码器的输出作为key和value，decoder的状态作为query。与编码器部分相类似，解码器同样是使用了add and norm机制，用残差和层归一化将各个子层的输出相连。\n",
    "\n",
    "仔细来讲，在第t个时间步，当前输入$x_t$是query，那么self attention接受了第t步以及前t-1步的所有输入$x_1,\\ldots, x_{t-1}$。在训练时，由于第t位置的输入可以观测到全部的序列，这与预测阶段的情形项矛盾，所以我们要通过将第t个时间步所对应的可观测长度设置为t，以消除不需要看到的未来的信息。\n",
    "\n",
    "\n",
    "![Image Name](https://cdn.kesci.com/upload/image/q5kpefhcyg.png?imageView2/0/w/800/h/800)\n"
   ]
  },
  {
   "cell_type": "code",
   "execution_count": 49,
   "metadata": {
    "graffitiCellId": "id_ao2mjn9",
    "id": "B5D8DE77B835470B8ABB16FD9093CBB2",
    "jupyter": {},
    "scrolled": false,
    "slideshow": {
     "slide_type": "slide"
    },
    "tags": []
   },
   "outputs": [],
   "source": [
    "class DecoderBlock(nn.Module):\n",
    "    def __init__(self, embedding_size, ffn_hidden_size, num_heads,dropout,i,**kwargs):\n",
    "        super(DecoderBlock, self).__init__(**kwargs)\n",
    "        self.i = i\n",
    "        # 按照图中所表达的进行网络铺设\n",
    "        self.attention_1 = MultiHeadAttention(embedding_size, embedding_size, num_heads, dropout)\n",
    "        self.addnorm_1 = AddNorm(embedding_size, dropout)\n",
    "        self.attention_2 = MultiHeadAttention(embedding_size, embedding_size, num_heads, dropout)\n",
    "        self.addnorm_2 = AddNorm(embedding_size, dropout)\n",
    "        self.ffn = PositionWiseFFN(embedding_size, ffn_hidden_size, embedding_size)\n",
    "        self.addnorm_3 = AddNorm(embedding_size, dropout)\n",
    "    \n",
    "    def forward(self, X, state):\n",
    "        enc_outputs, enc_valid_length = state[0], state[1]\n",
    "        \n",
    "        # state[2][self.i] stores all the previous t-1 query state of layer-i\n",
    "        # len(state[2]) = num_layers\n",
    "        \n",
    "        # If training:\n",
    "        #     state[2] is useless.\n",
    "        # If predicting:\n",
    "        #     In the t-th timestep:\n",
    "        #         state[2][self.i].shape = (batch_size, t-1, hidden_size)\n",
    "        # Demo:\n",
    "        # love dogs ! [EOS]\n",
    "        #  |    |   |   |\n",
    "        #   Transformer \n",
    "        #    Decoder\n",
    "        #  |   |   |   |\n",
    "        #  I love dogs !\n",
    "        \n",
    "        if state[2][self.i] is None:\n",
    "            key_values = X\n",
    "        else:\n",
    "            # shape of key_values = (batch_size, t, hidden_size)\n",
    "            key_values = torch.cat((state[2][self.i], X), dim=1) #对矩阵进行链接\n",
    "        state[2][self.i] = key_values\n",
    "        \n",
    "        if self.training:\n",
    "            batch_size, seq_len, _ = X.shape\n",
    "            # Shape: (batch_size, seq_len), the values in the j-th column are j+1\n",
    "            valid_length = torch.FloatTensor(np.tile(np.arange(1, seq_len+1), (batch_size, 1))) \n",
    "            valid_length = valid_length.to(X.device)\n",
    "        else:\n",
    "            valid_length = None\n",
    "\n",
    "        X2 = self.attention_1(X, key_values, key_values, valid_length)\n",
    "        Y = self.addnorm_1(X, X2)\n",
    "        Y2 = self.attention_2(Y, enc_outputs, enc_outputs, enc_valid_length)\n",
    "        Z = self.addnorm_2(Y, Y2)\n",
    "        return self.addnorm_3(Z, self.ffn(Z)), state"
   ]
  },
  {
   "cell_type": "code",
   "execution_count": 50,
   "metadata": {
    "graffitiCellId": "id_5mxi0su",
    "id": "A9BA1A943DE64FDC8A51022121BBF25D",
    "jupyter": {},
    "scrolled": false,
    "slideshow": {
     "slide_type": "slide"
    },
    "tags": []
   },
   "outputs": [
    {
     "data": {
      "text/plain": [
       "torch.Size([2, 100, 24])"
      ]
     },
     "execution_count": 50,
     "metadata": {},
     "output_type": "execute_result"
    }
   ],
   "source": [
    "decoder_blk = DecoderBlock(24, 48, 8, 0.5, 0)\n",
    "X = torch.ones((2, 100, 24))\n",
    "state = [encoder_blk(X, valid_length), valid_length, [None]]\n",
    "decoder_blk(X, state)[0].shape"
   ]
  },
  {
   "cell_type": "markdown",
   "metadata": {
    "graffitiCellId": "id_pnkw93o",
    "id": "CAF049F759654BEBAA71A76F17AF3D1C",
    "jupyter": {},
    "mdEditEnable": false,
    "slideshow": {
     "slide_type": "slide"
    },
    "tags": []
   },
   "source": [
    "对于Transformer解码器来说，构造方式与编码器一样，除了最后一层添加一个dense layer以获得输出的置信度分数。下面让我们来实现一下Transformer Decoder，除了常规的超参数例如vocab_size embedding_size 之外，解码器还需要编码器的输出 enc_outputs 和句子有效长度 enc_valid_length。"
   ]
  },
  {
   "cell_type": "code",
   "execution_count": 51,
   "metadata": {
    "graffitiCellId": "id_uwit5bq",
    "id": "A08D05D6E69648E2851DC6CD464241CB",
    "jupyter": {},
    "scrolled": false,
    "slideshow": {
     "slide_type": "slide"
    },
    "tags": []
   },
   "outputs": [],
   "source": [
    "class TransformerDecoder(d2l.Decoder):\n",
    "    def __init__(self, vocab_size, embedding_size, ffn_hidden_size,\n",
    "                 num_heads, num_layers, dropout, **kwargs):\n",
    "        super(TransformerDecoder, self).__init__(**kwargs)\n",
    "        self.embedding_size = embedding_size\n",
    "        self.num_layers = num_layers\n",
    "        self.embed = nn.Embedding(vocab_size, embedding_size)\n",
    "        self.pos_encoding = PositionalEncoding(embedding_size, dropout)# 未知编码\n",
    "        self.blks = nn.ModuleList()\n",
    "        for i in range(num_layers):\n",
    "            self.blks.append(\n",
    "                DecoderBlock(embedding_size, ffn_hidden_size, num_heads,\n",
    "                             dropout, i))\n",
    "        self.dense = nn.Linear(embedding_size, vocab_size)\n",
    "\n",
    "    def init_state(self, enc_outputs, enc_valid_length, *args):\n",
    "        return [enc_outputs, enc_valid_length, [None]*self.num_layers]\n",
    "\n",
    "    def forward(self, X, state):\n",
    "        X = self.pos_encoding(self.embed(X) * math.sqrt(self.embedding_size))\n",
    "        for blk in self.blks:\n",
    "            X, state = blk(X, state)\n",
    "        return self.dense(X), state"
   ]
  },
  {
   "cell_type": "markdown",
   "metadata": {
    "graffitiCellId": "id_rhka3y7",
    "id": "B5FF9984A72D4A3085C58FB3A368E3EA",
    "jupyter": {},
    "mdEditEnable": false,
    "slideshow": {
     "slide_type": "slide"
    },
    "tags": []
   },
   "source": [
    "# 训练"
   ]
  },
  {
   "cell_type": "code",
   "execution_count": 52,
   "metadata": {
    "graffitiCellId": "id_vxoc9ly",
    "id": "335EEDE006B94516B87E8612B38F36C0",
    "jupyter": {},
    "scrolled": false,
    "slideshow": {
     "slide_type": "slide"
    },
    "tags": []
   },
   "outputs": [],
   "source": [
    "import zipfile\n",
    "import torch\n",
    "import requests\n",
    "from io import BytesIO\n",
    "from torch.utils import data\n",
    "import sys\n",
    "import collections\n",
    "\n",
    "class Vocab(object): # This class is saved in d2l.\n",
    "  def __init__(self, tokens, min_freq=0, use_special_tokens=False):\n",
    "    # sort by frequency and token\n",
    "    counter = collections.Counter(tokens)\n",
    "    token_freqs = sorted(counter.items(), key=lambda x: x[0])\n",
    "    token_freqs.sort(key=lambda x: x[1], reverse=True)\n",
    "    if use_special_tokens:\n",
    "      # padding, begin of sentence, end of sentence, unknown\n",
    "      self.pad, self.bos, self.eos, self.unk = (0, 1, 2, 3)\n",
    "      tokens = ['', '', '', '']\n",
    "    else:\n",
    "      self.unk = 0\n",
    "      tokens = ['']\n",
    "    tokens += [token for token, freq in token_freqs if freq >= min_freq]\n",
    "    self.idx_to_token = []\n",
    "    self.token_to_idx = dict()\n",
    "    for token in tokens:\n",
    "      self.idx_to_token.append(token)\n",
    "      self.token_to_idx[token] = len(self.idx_to_token) - 1\n",
    "      \n",
    "  def __len__(self):\n",
    "    return len(self.idx_to_token)\n",
    "  \n",
    "  def __getitem__(self, tokens):\n",
    "    if not isinstance(tokens, (list, tuple)):\n",
    "      return self.token_to_idx.get(tokens, self.unk)\n",
    "    else:\n",
    "      return [self.__getitem__(token) for token in tokens]\n",
    "    \n",
    "  def to_tokens(self, indices):\n",
    "    if not isinstance(indices, (list, tuple)):\n",
    "      return self.idx_to_token[indices]\n",
    "    else:\n",
    "      return [self.idx_to_token[index] for index in indices]\n",
    "\n",
    "def load_data_nmt(batch_size, max_len, num_examples=1000):\n",
    "    \"\"\"Download an NMT dataset, return its vocabulary and data iterator.\"\"\"\n",
    "    # Download and preprocess\n",
    "    def preprocess_raw(text):\n",
    "        text = text.replace('\\u202f', ' ').replace('\\xa0', ' ')\n",
    "        out = ''\n",
    "        for i, char in enumerate(text.lower()):\n",
    "            if char in (',', '!', '.') and text[i-1] != ' ':\n",
    "                out += ' '\n",
    "            out += char\n",
    "        return out \n",
    "\n",
    "\n",
    "    with open('/home/kesci/input/fraeng6506/fra.txt', 'r') as f:\n",
    "      raw_text = f.read()\n",
    "\n",
    "\n",
    "    text = preprocess_raw(raw_text)\n",
    "\n",
    "    # Tokenize\n",
    "    source, target = [], []\n",
    "    for i, line in enumerate(text.split('\\n')):\n",
    "        if i >= num_examples:\n",
    "            break\n",
    "        parts = line.split('\\t')\n",
    "        if len(parts) >= 2:\n",
    "            source.append(parts[0].split(' '))\n",
    "            target.append(parts[1].split(' '))\n",
    "\n",
    "    # Build vocab\n",
    "    def build_vocab(tokens):\n",
    "        tokens = [token for line in tokens for token in line]\n",
    "        return Vocab(tokens, min_freq=3, use_special_tokens=True)\n",
    "    src_vocab, tgt_vocab = build_vocab(source), build_vocab(target)\n",
    "\n",
    "    # Convert to index arrays\n",
    "    def pad(line, max_len, padding_token):\n",
    "        if len(line) > max_len:\n",
    "            return line[:max_len]\n",
    "        return line + [padding_token] * (max_len - len(line))\n",
    "\n",
    "    def build_array(lines, vocab, max_len, is_source):\n",
    "        lines = [vocab[line] for line in lines]\n",
    "        if not is_source:\n",
    "            lines = [[vocab.bos] + line + [vocab.eos] for line in lines]\n",
    "        array = torch.tensor([pad(line, max_len, vocab.pad) for line in lines])\n",
    "        valid_len = (array != vocab.pad).sum(1)\n",
    "        return array, valid_len\n",
    "\n",
    "    src_vocab, tgt_vocab = build_vocab(source), build_vocab(target)\n",
    "    src_array, src_valid_len = build_array(source, src_vocab, max_len, True)\n",
    "    tgt_array, tgt_valid_len = build_array(target, tgt_vocab, max_len, False)\n",
    "    train_data = data.TensorDataset(src_array, src_valid_len, tgt_array, tgt_valid_len)\n",
    "    train_iter = data.DataLoader(train_data, batch_size, shuffle=True)\n",
    "    return src_vocab, tgt_vocab, train_iter"
   ]
  },
  {
   "cell_type": "code",
   "execution_count": 53,
   "metadata": {
    "graffitiCellId": "id_ejtd65n",
    "id": "CF24003818D24C8EB13D73526386F6DA",
    "jupyter": {},
    "scrolled": false,
    "slideshow": {
     "slide_type": "slide"
    },
    "tags": []
   },
   "outputs": [
    {
     "name": "stdout",
     "output_type": "stream",
     "text": [
      "cpu\n",
      "epoch   50,loss 0.046, time 40.5 sec\n",
      "epoch  100,loss 0.039, time 40.7 sec\n",
      "epoch  150,loss 0.038, time 40.7 sec\n",
      "epoch  200,loss 0.035, time 40.9 sec\n",
      "epoch  250,loss 0.034, time 40.5 sec\n"
     ]
    }
   ],
   "source": [
    "import os\n",
    "\n",
    "import d2l\n",
    "\n",
    "# 平台暂时不支持gpu，现在会自动使用cpu训练，gpu可以用了之后会使用gpu来训练\n",
    "os.environ[\"CUDA_VISIBLE_DEVICES\"] = \"1\"\n",
    "\n",
    "embed_size, embedding_size, num_layers, dropout = 32, 32, 2, 0.05\n",
    "batch_size, num_steps = 64, 10\n",
    "lr, num_epochs, ctx = 0.005, 250, d2l.try_gpu()\n",
    "print(ctx)\n",
    "num_hiddens, num_heads = 64, 4\n",
    "\n",
    "src_vocab, tgt_vocab, train_iter = load_data_nmt(batch_size, num_steps)\n",
    "\n",
    "encoder = TransformerEncoder(\n",
    "    len(src_vocab), embedding_size, num_hiddens, num_heads, num_layers,\n",
    "    dropout)\n",
    "decoder = TransformerDecoder(\n",
    "    len(src_vocab), embedding_size, num_hiddens, num_heads, num_layers,\n",
    "    dropout)\n",
    "model = d2l.EncoderDecoder(encoder, decoder)\n",
    "d2l.train_s2s_ch9(model, train_iter, lr, num_epochs, ctx)# 使用函数进行处理"
   ]
  },
  {
   "cell_type": "code",
   "execution_count": 54,
   "metadata": {
    "graffitiCellId": "id_j2p7osp",
    "id": "5499C9F770424B3D8EE5F8CBAC59731C",
    "jupyter": {},
    "scrolled": false,
    "slideshow": {
     "slide_type": "slide"
    },
    "tags": []
   },
   "outputs": [
    {
     "name": "stdout",
     "output_type": "stream",
     "text": [
      "Go . => va entrez !\n",
      "Wow ! =>  !\n",
      "I'm OK . => ça va .\n",
      "I won ! => je l'ai emporté !\n"
     ]
    }
   ],
   "source": [
    "model.eval()\n",
    "for sentence in ['Go .', 'Wow !', \"I'm OK .\", 'I won !']:\n",
    "    print(sentence + ' => ' + d2l.predict_s2s_ch9(\n",
    "        model, sentence, src_vocab, tgt_vocab, num_steps, ctx))"
   ]
  },
  {
   "cell_type": "code",
   "execution_count": null,
   "metadata": {
    "graffitiCellId": "id_1glxxfk",
    "id": "94E865681BF5401C9E5EA47615ABCA30",
    "jupyter": {},
    "slideshow": {
     "slide_type": "slide"
    },
    "tags": []
   },
   "outputs": [],
   "source": []
  }
 ],
 "metadata": {
  "kernelspec": {
   "display_name": "Python 3",
   "language": "python",
   "name": "python3"
  },
  "language_info": {
   "codemirror_mode": {
    "name": "ipython",
    "version": 3
   },
   "file_extension": ".py",
   "mimetype": "text/x-python",
   "name": "python",
   "nbconvert_exporter": "python",
   "pygments_lexer": "ipython3",
   "version": "3.7.4"
  }
 },
 "nbformat": 4,
 "nbformat_minor": 1
}
