{
 "cells": [
  {
   "cell_type": "markdown",
   "metadata": {
    "graffitiCellId": "id_8rzcpka",
    "id": "8B29D5BA2CDA40FA9032FEF85B471F25",
    "jupyter": {},
    "mdEditEnable": false,
    "slideshow": {
     "slide_type": "slide"
    },
    "tags": []
   },
   "source": [
    "# 图像增广\n",
    "在5.6节（深度卷积神经网络）里我们提到过，大规模数据集是成功应用深度神经网络的前提。图像增广（image augmentation）技术通过对训练图像做一系列随机改变，来产生相似但又不同的训练样本，从而扩大训练数据集的规模。图像增广的另一种解释是，随机改变训练样本可以降低模型对某些属性的依赖，从而提高模型的泛化能力。例如，我们可以对图像进行不同方式的裁剪，使感兴趣的物体出现在不同位置，从而减轻模型对物体出现位置的依赖性。我们也可以调整亮度、色彩等因素来降低模型对色彩的敏感度。可以说，在当年AlexNet的成功中，图像增广技术功不可没。本节我们将讨论这个在计算机视觉里被广泛使用的技术。\n",
    "\n",
    "首先，导入实验所需的包或模块。"
   ]
  },
  {
   "cell_type": "code",
   "execution_count": 1,
   "metadata": {
    "id": "B818486AAED3452FBA7F49FCAE4EB654",
    "jupyter": {},
    "scrolled": false,
    "slideshow": {
     "slide_type": "slide"
    },
    "tags": []
   },
   "outputs": [
    {
     "data": {
      "text/plain": [
       "['img']"
      ]
     },
     "execution_count": 1,
     "metadata": {},
     "output_type": "execute_result"
    }
   ],
   "source": [
    "import os\n",
    "os.listdir(\"/home/kesci/input/img2083/\")\n",
    "#导入包"
   ]
  },
  {
   "cell_type": "code",
   "execution_count": 2,
   "metadata": {
    "ExecuteTime": {
     "end_time": "2019-05-29T14:27:44.323427Z",
     "start_time": "2019-05-29T14:27:43.032842Z"
    },
    "graffitiCellId": "id_qv9z2jy",
    "id": "C2B29FA0EFDB4D68843839DB2205E2C2",
    "jupyter": {},
    "scrolled": false,
    "slideshow": {
     "slide_type": "slide"
    },
    "tags": []
   },
   "outputs": [
    {
     "name": "stdout",
     "output_type": "stream",
     "text": [
      "1.3.0\n",
      "cpu\n"
     ]
    }
   ],
   "source": [
    "%matplotlib inline\n",
    "import os\n",
    "import time\n",
    "import torch\n",
    "from torch import nn, optim\n",
    "from torch.utils.data import Dataset, DataLoader# 加载数据,保存数据\n",
    "import torchvision# 处理图片的\n",
    "import sys\n",
    "from PIL import Image\n",
    "\n",
    "sys.path.append(\"/home/kesci/input/\")\n",
    "#置当前使用的GPU设备仅为0号设备\n",
    "os.environ[\"CUDA_VISIBLE_DEVICES\"] = \"0\"   \n",
    "\n",
    "import d2lzh1981 as d2l\n",
    "\n",
    "# 定义device，是否使用GPU，依据计算机配置自动会选择\n",
    "device = torch.device('cuda' if torch.cuda.is_available() else 'cpu')\n",
    "print(torch.__version__)\n",
    "print(device)"
   ]
  },
  {
   "cell_type": "markdown",
   "metadata": {
    "graffitiCellId": "id_ysordqh",
    "id": "A739A107ACE148C29FAB6525480EAAF8",
    "jupyter": {},
    "mdEditEnable": false,
    "slideshow": {
     "slide_type": "slide"
    },
    "tags": []
   },
   "source": [
    "## 9.1.1 常用的图像增广方法"
   ]
  },
  {
   "cell_type": "markdown",
   "metadata": {
    "graffitiCellId": "id_ch0os5q",
    "id": "0B4640AE704047248807D89749B1E2C3",
    "jupyter": {},
    "mdEditEnable": false,
    "slideshow": {
     "slide_type": "slide"
    },
    "tags": []
   },
   "source": [
    "我们来读取一张形状为$400\\times 500$（高和宽分别为400像素和500像素）的图像作为实验的样例。"
   ]
  },
  {
   "cell_type": "code",
   "execution_count": 3,
   "metadata": {
    "ExecuteTime": {
     "end_time": "2019-05-29T14:27:44.619786Z",
     "start_time": "2019-05-29T14:27:44.326107Z"
    },
    "graffitiCellId": "id_qiqhlpe",
    "id": "2E8226200EA746FC837F8E1D2270E7E7",
    "jupyter": {},
    "scrolled": false,
    "slideshow": {
     "slide_type": "slide"
    },
    "tags": []
   },
   "outputs": [
    {
     "data": {
      "text/plain": [
       "<matplotlib.image.AxesImage at 0x7fa4f8129198>"
      ]
     },
     "execution_count": 3,
     "metadata": {},
     "output_type": "execute_result"
    },
    {
     "data": {
      "text/html": [
       "<img src=\"https://cdn.kesci.com/rt_upload/2E8226200EA746FC837F8E1D2270E7E7/q67fwgccnd.svg\">"
      ],
      "text/plain": [
       "<Figure size 252x180 with 1 Axes>"
      ]
     },
     "metadata": {
      "needs_background": "light"
     },
     "output_type": "display_data"
    }
   ],
   "source": [
    "d2l.set_figsize()\n",
    "img = Image.open('/home/kesci/input/img2083/img/cat1.jpg')\n",
    "d2l.plt.imshow(img)\n",
    "# 猫图片"
   ]
  },
  {
   "cell_type": "markdown",
   "metadata": {
    "graffitiCellId": "id_8vwl6op",
    "id": "D5E1DB8C50DA47A3982B500CFA65D894",
    "jupyter": {},
    "mdEditEnable": false,
    "slideshow": {
     "slide_type": "slide"
    },
    "tags": []
   },
   "source": [
    "下面定义绘图函数show_images。"
   ]
  },
  {
   "cell_type": "code",
   "execution_count": 4,
   "metadata": {
    "ExecuteTime": {
     "end_time": "2019-05-29T14:27:44.625705Z",
     "start_time": "2019-05-29T14:27:44.6218Z"
    },
    "graffitiCellId": "id_n5pwpa2",
    "id": "18FC4F455F594093B3643B62C9B628BE",
    "jupyter": {},
    "scrolled": false,
    "slideshow": {
     "slide_type": "slide"
    },
    "tags": []
   },
   "outputs": [],
   "source": [
    "# 本函数已保存在d2lzh_pytorch包中方便以后使用\n",
    "def show_images(imgs, num_rows, num_cols, scale=2):\n",
    "    figsize = (num_cols * scale, num_rows * scale)\n",
    "    _, axes = d2l.plt.subplots(num_rows, num_cols, figsize=figsize)\n",
    "    for i in range(num_rows):\n",
    "        for j in range(num_cols):\n",
    "            axes[i][j].imshow(imgs[i * num_cols + j])\n",
    "            axes[i][j].axes.get_xaxis().set_visible(False)\n",
    "            axes[i][j].axes.get_yaxis().set_visible(False)# 将坐标轴删除\n",
    "    return axes"
   ]
  },
  {
   "cell_type": "markdown",
   "metadata": {
    "graffitiCellId": "id_wol553l",
    "id": "CC6BA94AE76340FC96AC6053F5A72CC0",
    "jupyter": {},
    "mdEditEnable": false,
    "slideshow": {
     "slide_type": "slide"
    },
    "tags": []
   },
   "source": [
    "大部分图像增广方法都有一定的随机性。为了方便观察图像增广的效果，接下来我们定义一个辅助函数apply。这个函数对输入图像img多次运行图像增广方法aug并展示所有的结果。"
   ]
  },
  {
   "cell_type": "code",
   "execution_count": 5,
   "metadata": {
    "ExecuteTime": {
     "end_time": "2019-05-29T14:27:44.633413Z",
     "start_time": "2019-05-29T14:27:44.627482Z"
    },
    "graffitiCellId": "id_pby87vk",
    "id": "D57F500559DD4631ABEAD1364C3E84F7",
    "jupyter": {},
    "scrolled": false,
    "slideshow": {
     "slide_type": "slide"
    },
    "tags": []
   },
   "outputs": [],
   "source": [
    "def apply(img, aug, num_rows=2, num_cols=4, scale=1.5):\n",
    "    Y = [aug(img) for _ in range(num_rows * num_cols)]\n",
    "    show_images(Y, num_rows, num_cols, scale)"
   ]
  },
  {
   "cell_type": "markdown",
   "metadata": {
    "graffitiCellId": "id_3knqx3n",
    "id": "A28EB2D8699E48B39627E99AF7CBDD1D",
    "jupyter": {},
    "mdEditEnable": false,
    "slideshow": {
     "slide_type": "slide"
    },
    "tags": []
   },
   "source": [
    "### 9.1.1.1 翻转和裁剪"
   ]
  },
  {
   "cell_type": "markdown",
   "metadata": {
    "graffitiCellId": "id_x0dq5ad",
    "id": "F22D58805F6A41B8A21100F3E480B2F5",
    "jupyter": {},
    "mdEditEnable": false,
    "slideshow": {
     "slide_type": "slide"
    },
    "tags": []
   },
   "source": [
    "左右翻转图像通常不改变物体的类别。它是最早也是最广泛使用的一种图像增广方法。下面我们通过torchvision.transforms模块创建RandomHorizontalFlip实例来实现一半概率的图像水平（左右）翻转。"
   ]
  },
  {
   "cell_type": "code",
   "execution_count": 6,
   "metadata": {
    "ExecuteTime": {
     "end_time": "2019-05-29T14:27:44.909361Z",
     "start_time": "2019-05-29T14:27:44.635038Z"
    },
    "graffitiCellId": "id_s7arjcy",
    "id": "3468EB85A60046D184CAE68C0303B61A",
    "jupyter": {},
    "scrolled": false,
    "slideshow": {
     "slide_type": "slide"
    },
    "tags": []
   },
   "outputs": [
    {
     "data": {
      "text/html": [
       "<img src=\"https://cdn.kesci.com/rt_upload/3468EB85A60046D184CAE68C0303B61A/q67g15n2il.svg\">"
      ],
      "text/plain": [
       "<Figure size 432x216 with 8 Axes>"
      ]
     },
     "metadata": {
      "needs_background": "light"
     },
     "output_type": "display_data"
    }
   ],
   "source": [
    "apply(img, torchvision.transforms.RandomHorizontalFlip())\n",
    "#Horizontally flip the given PIL Image randomly with a given probability.,几行几列,随机展示方向,左右翻转"
   ]
  },
  {
   "cell_type": "markdown",
   "metadata": {
    "graffitiCellId": "id_hz4s7es",
    "id": "4A09A4B31EB84923B387FA933FA96442",
    "jupyter": {},
    "mdEditEnable": false,
    "slideshow": {
     "slide_type": "slide"
    },
    "tags": []
   },
   "source": [
    "上下翻转不如左右翻转通用。但是至少对于样例图像，上下翻转不会造成识别障碍。下面我们创建RandomVerticalFlip实例来实现一半概率的图像垂直（上下）翻转。"
   ]
  },
  {
   "cell_type": "code",
   "execution_count": 7,
   "metadata": {
    "ExecuteTime": {
     "end_time": "2019-05-29T14:27:45.172398Z",
     "start_time": "2019-05-29T14:27:44.911747Z"
    },
    "graffitiCellId": "id_s8zqgsz",
    "id": "E5C336DB27314EAC8F8D5CBC71A49566",
    "jupyter": {},
    "scrolled": false,
    "slideshow": {
     "slide_type": "slide"
    },
    "tags": []
   },
   "outputs": [
    {
     "data": {
      "text/html": [
       "<img src=\"https://cdn.kesci.com/rt_upload/E5C336DB27314EAC8F8D5CBC71A49566/q5u2xxruy4.svg\">"
      ],
      "text/plain": [
       "<Figure size 432x216 with 8 Axes>"
      ]
     },
     "metadata": {
      "needs_background": "light"
     },
     "output_type": "display_data"
    }
   ],
   "source": [
    "apply(img, torchvision.transforms.RandomVerticalFlip())#上下翻转"
   ]
  },
  {
   "cell_type": "markdown",
   "metadata": {
    "graffitiCellId": "id_hvduer6",
    "id": "7FA91C8F8C6C43B1867A1F80DD94E138",
    "jupyter": {},
    "mdEditEnable": false,
    "slideshow": {
     "slide_type": "slide"
    },
    "tags": []
   },
   "source": [
    "在我们使用的样例图像里，猫在图像正中间，但一般情况下可能不是这样。在5.4节（池化层）里我们解释了池化层能降低卷积层对目标位置的敏感度。除此之外，我们还可以通过对图像随机裁剪来让物体以不同的比例出现在图像的不同位置，这同样能够降低模型对目标位置的敏感性。\n",
    "\n",
    "在下面的代码里，我们每次随机裁剪出一块面积为原面积$10\\% \\sim 100\\%$的区域，且该区域的宽和高之比随机取自$0.5 \\sim 2$，然后再将该区域的宽和高分别缩放到200像素。若无特殊说明，本节中$a$和$b$之间的随机数指的是从区间$[a,b]$中随机均匀采样所得到的连续值。"
   ]
  },
  {
   "cell_type": "code",
   "execution_count": 7,
   "metadata": {
    "ExecuteTime": {
     "end_time": "2019-05-29T14:27:45.45291Z",
     "start_time": "2019-05-29T14:27:45.174722Z"
    },
    "graffitiCellId": "id_yi7a0ih",
    "id": "EA4DD5EE9522432A99D3F29A6C28A22C",
    "jupyter": {},
    "scrolled": false,
    "slideshow": {
     "slide_type": "slide"
    },
    "tags": []
   },
   "outputs": [
    {
     "data": {
      "text/html": [
       "<img src=\"https://cdn.kesci.com/rt_upload/EA4DD5EE9522432A99D3F29A6C28A22C/q67g3z4gye.svg\">"
      ],
      "text/plain": [
       "<Figure size 432x216 with 8 Axes>"
      ]
     },
     "metadata": {
      "needs_background": "light"
     },
     "output_type": "display_data"
    }
   ],
   "source": [
    "shape_aug = torchvision.transforms.RandomResizedCrop(200, scale=(0.1, 1), ratio=(0.5, 2))\n",
    "#size – expected output size of each edge\n",
    "\n",
    "# scale – range of size of the origin size cropped\n",
    "\n",
    "# ratio – range of aspect ratio of the origin aspect ratio cropped\n",
    "\n",
    "# interpolation – Default: PIL.Image.BILINEAR\n",
    "apply(img, shape_aug)"
   ]
  },
  {
   "cell_type": "markdown",
   "metadata": {
    "graffitiCellId": "id_r1x329p",
    "id": "85291839BF83486984FE25AA523F6FCF",
    "jupyter": {},
    "mdEditEnable": false,
    "slideshow": {
     "slide_type": "slide"
    },
    "tags": []
   },
   "source": [
    "### 9.1.1.2 变化颜色"
   ]
  },
  {
   "cell_type": "markdown",
   "metadata": {
    "graffitiCellId": "id_9e54ysm",
    "id": "DB0B9931A60F4B50809477EF5E996451",
    "jupyter": {},
    "mdEditEnable": false,
    "slideshow": {
     "slide_type": "slide"
    },
    "tags": []
   },
   "source": [
    "另一类增广方法是变化颜色。我们可以从4个方面改变图像的颜色：亮度（brightness）、对比度（contrast）、饱和度（saturation）和色调（hue）。在下面的例子里，我们将图像的亮度随机变化为原图亮度的$50\\%$($1-0.5$)$\\sim 150\\%$($1+0.5$)。"
   ]
  },
  {
   "cell_type": "code",
   "execution_count": 8,
   "metadata": {
    "ExecuteTime": {
     "end_time": "2019-05-29T14:27:45.711617Z",
     "start_time": "2019-05-29T14:27:45.454846Z"
    },
    "graffitiCellId": "id_2dxdbdr",
    "id": "8D357E42F68A40B39662129AB210C1D8",
    "jupyter": {},
    "scrolled": false,
    "slideshow": {
     "slide_type": "slide"
    },
    "tags": []
   },
   "outputs": [
    {
     "data": {
      "text/html": [
       "<img src=\"https://cdn.kesci.com/rt_upload/8D357E42F68A40B39662129AB210C1D8/q67g5bdips.svg\">"
      ],
      "text/plain": [
       "<Figure size 432x216 with 8 Axes>"
      ]
     },
     "metadata": {
      "needs_background": "light"
     },
     "output_type": "display_data"
    }
   ],
   "source": [
    "apply(img, torchvision.transforms.ColorJitter(brightness=0.5, contrast=0, saturation=0, hue=0))\n",
    "# Randomly change the brightness, contrast and saturation of an image."
   ]
  },
  {
   "cell_type": "markdown",
   "metadata": {
    "graffitiCellId": "id_idzvmer",
    "id": "F5AF4B72D4D24F108B41EA87E8778292",
    "jupyter": {},
    "mdEditEnable": false,
    "slideshow": {
     "slide_type": "slide"
    },
    "tags": []
   },
   "source": [
    "我们也可以随机变化图像的色调。"
   ]
  },
  {
   "cell_type": "code",
   "execution_count": 9,
   "metadata": {
    "ExecuteTime": {
     "end_time": "2019-05-29T14:27:46.056185Z",
     "start_time": "2019-05-29T14:27:45.713461Z"
    },
    "graffitiCellId": "id_l88vivx",
    "id": "4810CF7ACBDA47D688AB8B7CB14B0103",
    "jupyter": {},
    "scrolled": false,
    "slideshow": {
     "slide_type": "slide"
    },
    "tags": []
   },
   "outputs": [
    {
     "data": {
      "text/html": [
       "<img src=\"https://cdn.kesci.com/rt_upload/4810CF7ACBDA47D688AB8B7CB14B0103/q67g5ihiv2.svg\">"
      ],
      "text/plain": [
       "<Figure size 432x216 with 8 Axes>"
      ]
     },
     "metadata": {
      "needs_background": "light"
     },
     "output_type": "display_data"
    }
   ],
   "source": [
    "apply(img, torchvision.transforms.ColorJitter(brightness=0, contrast=0, saturation=0, hue=0.5))"
   ]
  },
  {
   "cell_type": "markdown",
   "metadata": {
    "graffitiCellId": "id_v73o87b",
    "id": "EBD7C909D6654BA98A8506AA32CED38A",
    "jupyter": {},
    "mdEditEnable": false,
    "slideshow": {
     "slide_type": "slide"
    },
    "tags": []
   },
   "source": [
    "类似地，我们也可以随机变化图像的对比度。"
   ]
  },
  {
   "cell_type": "code",
   "execution_count": 10,
   "metadata": {
    "ExecuteTime": {
     "end_time": "2019-05-29T14:27:46.349046Z",
     "start_time": "2019-05-29T14:27:46.057792Z"
    },
    "graffitiCellId": "id_cotld2k",
    "id": "A9A4297F704348E58A78BA830CF61244",
    "jupyter": {},
    "scrolled": false,
    "slideshow": {
     "slide_type": "slide"
    },
    "tags": []
   },
   "outputs": [
    {
     "data": {
      "text/html": [
       "<img src=\"https://cdn.kesci.com/rt_upload/A9A4297F704348E58A78BA830CF61244/q67g5xvio4.svg\">"
      ],
      "text/plain": [
       "<Figure size 432x216 with 8 Axes>"
      ]
     },
     "metadata": {
      "needs_background": "light"
     },
     "output_type": "display_data"
    }
   ],
   "source": [
    "apply(img, torchvision.transforms.ColorJitter(brightness=0, contrast=0.5, saturation=0, hue=0))"
   ]
  },
  {
   "cell_type": "markdown",
   "metadata": {
    "graffitiCellId": "id_jummsur",
    "id": "963D75FC4B2945538F8E6FB2050DFBFB",
    "jupyter": {},
    "mdEditEnable": false,
    "slideshow": {
     "slide_type": "slide"
    },
    "tags": []
   },
   "source": [
    "我们也可以同时设置如何随机变化图像的亮度（brightness）、对比度（contrast）、饱和度（saturation）和色调（hue）。"
   ]
  },
  {
   "cell_type": "code",
   "execution_count": 11,
   "metadata": {
    "ExecuteTime": {
     "end_time": "2019-05-29T14:27:46.794113Z",
     "start_time": "2019-05-29T14:27:46.351551Z"
    },
    "graffitiCellId": "id_khwl9t4",
    "id": "0AB61DC028254CA4B132779C92F9EB8D",
    "jupyter": {},
    "scrolled": false,
    "slideshow": {
     "slide_type": "slide"
    },
    "tags": []
   },
   "outputs": [
    {
     "data": {
      "text/html": [
       "<img src=\"https://cdn.kesci.com/rt_upload/0AB61DC028254CA4B132779C92F9EB8D/q67g6h23tt.svg\">"
      ],
      "text/plain": [
       "<Figure size 432x216 with 8 Axes>"
      ]
     },
     "metadata": {
      "needs_background": "light"
     },
     "output_type": "display_data"
    }
   ],
   "source": [
    "color_aug = torchvision.transforms.ColorJitter(brightness=0.5, contrast=0.5, saturation=0.5, hue=0.5)\n",
    "apply(img, color_aug)"
   ]
  },
  {
   "cell_type": "markdown",
   "metadata": {
    "graffitiCellId": "id_r2ci04c",
    "id": "B03A44C3836646C1963CA5240EE3480E",
    "jupyter": {},
    "mdEditEnable": false,
    "slideshow": {
     "slide_type": "slide"
    },
    "tags": []
   },
   "source": [
    "### 9.1.1.3 叠加多个图像增广方法"
   ]
  },
  {
   "cell_type": "markdown",
   "metadata": {
    "graffitiCellId": "id_abug5nd",
    "id": "5B307A3D5F354FF282D8950FCB3193D4",
    "jupyter": {},
    "slideshow": {
     "slide_type": "slide"
    },
    "tags": []
   },
   "source": [
    "实际应用中我们会将多个图像增广方法叠加使用。我们可以通过Compose实例将上面定义的多个图像增广方法叠加起来，再应用到每张图像之上。"
   ]
  },
  {
   "cell_type": "code",
   "execution_count": 12,
   "metadata": {
    "ExecuteTime": {
     "end_time": "2019-05-29T14:27:47.176935Z",
     "start_time": "2019-05-29T14:27:46.796137Z"
    },
    "graffitiCellId": "id_6bgs81l",
    "id": "C523CE487EE0460C94F6E4EE885950C6",
    "jupyter": {},
    "scrolled": false,
    "slideshow": {
     "slide_type": "slide"
    },
    "tags": []
   },
   "outputs": [
    {
     "data": {
      "text/html": [
       "<img src=\"https://cdn.kesci.com/rt_upload/C523CE487EE0460C94F6E4EE885950C6/q67g9b5p4h.svg\">"
      ],
      "text/plain": [
       "<Figure size 432x216 with 8 Axes>"
      ]
     },
     "metadata": {
      "needs_background": "light"
     },
     "output_type": "display_data"
    }
   ],
   "source": [
    "augs = torchvision.transforms.Compose([\n",
    "    torchvision.transforms.RandomHorizontalFlip(), color_aug, shape_aug])\n",
    "apply(img, augs)\n",
    "# compose函数Composes several transforms together.,将几个转换叠加在一起"
   ]
  },
  {
   "cell_type": "markdown",
   "metadata": {
    "graffitiCellId": "id_b613w5t",
    "id": "CE5A309D6CC940A08295C1264BAFB527",
    "jupyter": {},
    "mdEditEnable": false,
    "slideshow": {
     "slide_type": "slide"
    },
    "tags": []
   },
   "source": [
    "## 9.1.2 使用图像增广训练模型"
   ]
  },
  {
   "cell_type": "markdown",
   "metadata": {
    "graffitiCellId": "id_pzx4fka",
    "id": "4C1BECF63BFC4F6491648AF0D720E6F2",
    "jupyter": {},
    "mdEditEnable": false,
    "slideshow": {
     "slide_type": "slide"
    },
    "tags": []
   },
   "source": [
    "下面我们来看一个将图像增广应用在实际训练中的例子。这里我们使用CIFAR-10数据集，而不是之前我们一直使用的Fashion-MNIST数据集。这是因为Fashion-MNIST数据集中物体的位置和尺寸都已经经过归一化处理，而CIFAR-10数据集中物体的颜色和大小区别更加显著。下面展示了CIFAR-10数据集中前32张训练图像。"
   ]
  },
  {
   "cell_type": "code",
   "execution_count": 13,
   "metadata": {
    "ExecuteTime": {
     "end_time": "2019-05-29T14:27:50.991426Z",
     "start_time": "2019-05-29T14:27:47.179107Z"
    },
    "graffitiCellId": "id_96gplaz",
    "id": "7B4490E8368B4F5DBE156D8540924DB7",
    "jupyter": {},
    "scrolled": false,
    "slideshow": {
     "slide_type": "slide"
    },
    "tags": []
   },
   "outputs": [
    {
     "name": "stdout",
     "output_type": "stream",
     "text": [
      "Files already downloaded and verified\n"
     ]
    },
    {
     "data": {
      "text/html": [
       "<img src=\"https://cdn.kesci.com/rt_upload/7B4490E8368B4F5DBE156D8540924DB7/q67ge8ahk5.svg\">"
      ],
      "text/plain": [
       "<Figure size 460.8x230.4 with 32 Axes>"
      ]
     },
     "metadata": {
      "needs_background": "light"
     },
     "output_type": "display_data"
    }
   ],
   "source": [
    "CIFAR_ROOT_PATH = '/home/kesci/input/cifar102021'\n",
    "all_imges = torchvision.datasets.CIFAR10(train=True, root=CIFAR_ROOT_PATH, download = True)# 导入数据\n",
    "# all_imges的每一个元素都是(image, label)\n",
    "show_images([all_imges[i][0] for i in range(32)], 4, 8, scale=0.8);"
   ]
  },
  {
   "cell_type": "markdown",
   "metadata": {
    "graffitiCellId": "id_428b4n7",
    "id": "ADEDF785C910487CB971CDFBD9EE4ADA",
    "jupyter": {},
    "mdEditEnable": false,
    "slideshow": {
     "slide_type": "slide"
    },
    "tags": []
   },
   "source": [
    "为了在预测时得到确定的结果，我们通常只将图像增广应用在训练样本上，而不在预测时使用含随机操作的图像增广。在这里我们只使用最简单的随机左右翻转。此外，我们使用ToTensor将小批量图像转成PyTorch需要的格式，即形状为(批量大小, 通道数, 高, 宽)、值域在0到1之间且类型为32位浮点数。"
   ]
  },
  {
   "cell_type": "code",
   "execution_count": 14,
   "metadata": {
    "ExecuteTime": {
     "end_time": "2019-05-29T14:27:50.996901Z",
     "start_time": "2019-05-29T14:27:50.993693Z"
    },
    "graffitiCellId": "id_4xo3eim",
    "id": "6F2A53FA00B44C29897021196B8CFDB0",
    "jupyter": {},
    "scrolled": false,
    "slideshow": {
     "slide_type": "slide"
    },
    "tags": []
   },
   "outputs": [],
   "source": [
    "flip_aug = torchvision.transforms.Compose([\n",
    "     torchvision.transforms.RandomHorizontalFlip(),#左右翻转\n",
    "     torchvision.transforms.ToTensor()])\n",
    "\n",
    "no_aug = torchvision.transforms.Compose([\n",
    "     torchvision.transforms.ToTensor()])"
   ]
  },
  {
   "cell_type": "markdown",
   "metadata": {
    "graffitiCellId": "id_gdh03v7",
    "id": "DBEBC110CE0F4DA98EAACB4184683F00",
    "jupyter": {},
    "mdEditEnable": false,
    "slideshow": {
     "slide_type": "slide"
    },
    "tags": []
   },
   "source": [
    "接下来我们定义一个辅助函数来方便读取图像并应用图像增广。有关DataLoader的详细介绍，可参考更早的3.5节图像分类数据集(Fashion-MNIST)。"
   ]
  },
  {
   "cell_type": "code",
   "execution_count": 15,
   "metadata": {
    "ExecuteTime": {
     "end_time": "2019-05-29T14:27:51.003553Z",
     "start_time": "2019-05-29T14:27:50.998826Z"
    },
    "graffitiCellId": "id_qoy487e",
    "id": "DA1EFC0259B84B1EA1FA1F2472B537FC",
    "jupyter": {},
    "scrolled": false,
    "slideshow": {
     "slide_type": "slide"
    },
    "tags": []
   },
   "outputs": [],
   "source": [
    "num_workers = 0 if sys.platform.startswith('win32') else 4\n",
    "def load_cifar10(is_train, augs, batch_size, root=CIFAR_ROOT_PATH):\n",
    "    dataset = torchvision.datasets.CIFAR10(root=root, train=is_train, transform=augs, download=False)\n",
    "    return DataLoader(dataset, batch_size=batch_size, shuffle=is_train, num_workers=num_workers)\n",
    "    # 导入数据集合"
   ]
  },
  {
   "cell_type": "markdown",
   "metadata": {
    "graffitiCellId": "id_7wneo4d",
    "id": "4971498854034AAA932778129689D1F9",
    "jupyter": {},
    "mdEditEnable": false,
    "slideshow": {
     "slide_type": "slide"
    },
    "tags": []
   },
   "source": [
    "### 9.1.2.1 使用图像增广训练模型"
   ]
  },
  {
   "cell_type": "markdown",
   "metadata": {
    "graffitiCellId": "id_wi50i3v",
    "id": "078D2FF0367946B0AA87574F016EFB38",
    "jupyter": {},
    "mdEditEnable": false,
    "slideshow": {
     "slide_type": "slide"
    },
    "tags": []
   },
   "source": [
    "我们在CIFAR-10数据集上训练5.11节（残差网络）中介绍的ResNet-18模型。\n",
    "\n",
    "我们先定义train函数使用GPU训练并评价模型。"
   ]
  },
  {
   "cell_type": "code",
   "execution_count": 16,
   "metadata": {
    "ExecuteTime": {
     "end_time": "2019-05-29T14:27:51.010527Z",
     "start_time": "2019-05-29T14:27:51.005395Z"
    },
    "graffitiCellId": "id_274r8dm",
    "id": "6BD2A860B83E4EC5884DEE82484EF7B0",
    "jupyter": {},
    "scrolled": false,
    "slideshow": {
     "slide_type": "slide"
    },
    "tags": []
   },
   "outputs": [],
   "source": [
    "# 本函数已保存在d2lzh_pytorch包中方便以后使用\n",
    "def train(train_iter, test_iter, net, loss, optimizer, device, num_epochs):\n",
    "    net = net.to(device)\n",
    "    print(\"training on \", device)\n",
    "    batch_count = 0\n",
    "    for epoch in range(num_epochs):\n",
    "        train_l_sum, train_acc_sum, n, start = 0.0, 0.0, 0, time.time()\n",
    "        for X, y in train_iter:\n",
    "            X = X.to(device)\n",
    "            y = y.to(device)\n",
    "            y_hat = net(X)\n",
    "            l = loss(y_hat, y)\n",
    "            optimizer.zero_grad()\n",
    "            l.backward()\n",
    "            optimizer.step()\n",
    "            train_l_sum += l.cpu().item()\n",
    "            train_acc_sum += (y_hat.argmax(dim=1) == y).sum().cpu().item()\n",
    "            n += y.shape[0]\n",
    "            batch_count += 1\n",
    "        test_acc = d2l.evaluate_accuracy(test_iter, net)\n",
    "        print('epoch %d, loss %.4f, train acc %.3f, test acc %.3f, time %.1f sec'\n",
    "              % (epoch + 1, train_l_sum / batch_count, train_acc_sum / n, test_acc, time.time() - start))"
   ]
  },
  {
   "cell_type": "markdown",
   "metadata": {
    "graffitiCellId": "id_l2fpbq1",
    "id": "979FD6AFCB9643018873C250A604E183",
    "jupyter": {},
    "mdEditEnable": false,
    "slideshow": {
     "slide_type": "slide"
    },
    "tags": []
   },
   "source": [
    "然后就可以定义train_with_data_aug函数使用图像增广来训练模型了。该函数使用Adam算法作为训练使用的优化算法，然后将图像增广应用于训练数据集之上，最后调用刚才定义的train函数训练并评价模型。"
   ]
  },
  {
   "cell_type": "markdown",
   "metadata": {
    "graffitiCellId": "id_70vgmbh",
    "id": "2F3A9A8B81C543F08D247C04750D909A",
    "jupyter": {},
    "mdEditEnable": false,
    "slideshow": {
     "slide_type": "slide"
    },
    "tags": []
   },
   "source": [
    "%% Below, type any markdown to display in the Graffiti tip.\n",
    "%% Then run this cell to save it.\n",
    "train_iter = load_cifar10(True, train_augs, batch_size)    test_iter = load_cifar10(False, test_augs, batch_size)"
   ]
  },
  {
   "cell_type": "code",
   "execution_count": 17,
   "metadata": {
    "ExecuteTime": {
     "end_time": "2019-05-29T14:27:51.016923Z",
     "start_time": "2019-05-29T14:27:51.012423Z"
    },
    "graffitiCellId": "id_dqwc04a",
    "id": "6EF491BDA07C4DF2A19EB8B7ECAF890A",
    "jupyter": {},
    "scrolled": false,
    "slideshow": {
     "slide_type": "slide"
    },
    "tags": []
   },
   "outputs": [],
   "source": [
    "def train_with_data_aug(train_augs, test_augs, lr=0.001):\n",
    "    batch_size, net = 256, d2l.resnet18(10)# 深度残差神经网络\n",
    "    optimizer = torch.optim.Adam(net.parameters(), lr=lr)\n",
    "    loss = torch.nn.CrossEntropyLoss()\n",
    "    train_iter = load_cifar10(True, train_augs, batch_size)\n",
    "    test_iter = load_cifar10(False, test_augs, batch_size)\n",
    "    train(train_iter, test_iter, net, loss, optimizer, device, num_epochs=10)\n",
    "# def resnet18(output=10, in_channels=3):\n",
    "#     net = nn.Sequential(\n",
    "#         nn.Conv2d(in_channels, 64, kernel_size=7, stride=2, padding=3),\n",
    "#         nn.BatchNorm2d(64), \n",
    "#         nn.ReLU(),\n",
    "#         nn.MaxPool2d(kernel_size=3, stride=2, padding=1))\n",
    "#     net.add_module(\"resnet_block1\", resnet_block(64, 64, 2, first_block=True))\n",
    "#     net.add_module(\"resnet_block2\", resnet_block(64, 128, 2))\n",
    "#     net.add_module(\"resnet_block3\", resnet_block(128, 256, 2))\n",
    "#     net.add_module(\"resnet_block4\", resnet_block(256, 512, 2))\n",
    "#     net.add_module(\"global_avg_pool\", GlobalAvgPool2d()) # GlobalAvgPool2d的输出: (Batch, 512, 1, 1)\n",
    "#     net.add_module(\"fc\", nn.Sequential(FlattenLayer(), nn.Linear(512, output))) \n",
    "#     return net\n"
   ]
  },
  {
   "cell_type": "markdown",
   "metadata": {
    "graffitiCellId": "id_pgjm6uz",
    "id": "739CAC5272E947279583CEC1F8636744",
    "jupyter": {},
    "mdEditEnable": false,
    "slideshow": {
     "slide_type": "slide"
    },
    "tags": []
   },
   "source": [
    "下面使用随机左右翻转的图像增广来训练模型。"
   ]
  },
  {
   "cell_type": "code",
   "execution_count": 20,
   "metadata": {
    "graffitiCellId": "id_y3fum4i",
    "id": "3A554FFA445A4184963A3451C9E87D77",
    "jupyter": {},
    "scrolled": false,
    "slideshow": {
     "slide_type": "slide"
    },
    "tags": []
   },
   "outputs": [
    {
     "name": "stdout",
     "output_type": "stream",
     "text": [
      "training on  cpu\n",
      "epoch 1, loss 1.3790, train acc 0.504, test acc 0.554, time 195.8 sec\n",
      "epoch 2, loss 0.4992, train acc 0.646, test acc 0.592, time 192.5 sec\n",
      "epoch 3, loss 0.2821, train acc 0.702, test acc 0.657, time 193.7 sec\n",
      "epoch 4, loss 0.1859, train acc 0.739, test acc 0.693, time 195.4 sec\n",
      "epoch 5, loss 0.1349, train acc 0.766, test acc 0.688, time 192.6 sec\n",
      "epoch 6, loss 0.1022, train acc 0.786, test acc 0.701, time 200.2 sec\n",
      "epoch 7, loss 0.0797, train acc 0.806, test acc 0.720, time 191.8 sec\n",
      "epoch 8, loss 0.0633, train acc 0.825, test acc 0.695, time 198.6 sec\n",
      "epoch 9, loss 0.0524, train acc 0.836, test acc 0.693, time 192.1 sec\n",
      "epoch 10, loss 0.0437, train acc 0.850, test acc 0.769, time 196.3 sec\n"
     ]
    }
   ],
   "source": [
    "train_with_data_aug(flip_aug, no_aug)"
   ]
  },
  {
   "cell_type": "code",
   "execution_count": null,
   "metadata": {
    "id": "F3B8A016C4B840A48A9924BFB01712FA",
    "jupyter": {},
    "slideshow": {
     "slide_type": "slide"
    },
    "tags": []
   },
   "outputs": [],
   "source": [
    "# 图像增广\n",
    "- 增强泛化能力\n",
    "- 选择适当的方法进行图像增广\n",
    "- 缓解过拟合"
   ]
  }
 ],
 "metadata": {
  "kernelspec": {
   "display_name": "Python 3",
   "language": "python",
   "name": "python3"
  },
  "language_info": {
   "codemirror_mode": {
    "name": "ipython",
    "version": 3
   },
   "file_extension": ".py",
   "mimetype": "text/x-python",
   "name": "python",
   "nbconvert_exporter": "python",
   "pygments_lexer": "ipython3",
   "version": "3.7.4"
  }
 },
 "nbformat": 4,
 "nbformat_minor": 1
}
