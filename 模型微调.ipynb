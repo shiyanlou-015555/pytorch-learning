{
 "cells": [
  {
   "attachments": {},
   "cell_type": "markdown",
   "metadata": {
    "graffitiCellId": "id_du3v1yu",
    "id": "39F75A70D85941858FF37A7110B216E9",
    "jupyter": {},
    "mdEditEnable": false,
    "slideshow": {
     "slide_type": "slide"
    },
    "tags": []
   },
   "source": [
    "# 9.2 微调\n",
    "在前面的一些章节中，我们介绍了如何在只有6万张图像的Fashion-MNIST训练数据集上训练模型。我们还描述了学术界当下使用最广泛的大规模图像数据集ImageNet，它有超过1,000万的图像和1,000类的物体。然而，我们平常接触到数据集的规模通常在这两者之间。\n",
    "\n",
    "假设我们想从图像中识别出不同种类的椅子，然后将购买链接推荐给用户。一种可能的方法是先找出100种常见的椅子，为每种椅子拍摄1,000张不同角度的图像，然后在收集到的图像数据集上训练一个分类模型。这个椅子数据集虽然可能比Fashion-MNIST数据集要庞大，但样本数仍然不及ImageNet数据集中样本数的十分之一。这可能会导致适用于ImageNet数据集的复杂模型在这个椅子数据集上过拟合。同时，因为数据量有限，最终训练得到的模型的精度也可能达不到实用的要求。\n",
    "\n",
    "为了应对上述问题，一个显而易见的解决办法是收集更多的数据。然而，收集和标注数据会花费大量的时间和资金。例如，为了收集ImageNet数据集，研究人员花费了数百万美元的研究经费。虽然目前的数据采集成本已降低了不少，但其成本仍然不可忽略。\n",
    "\n",
    "另外一种解决办法是应用迁移学习（transfer learning），将从源数据集学到的知识迁移到目标数据集上。例如，虽然ImageNet数据集的图像大多跟椅子无关，但在该数据集上训练的模型可以抽取较通用的图像特征，从而能够帮助识别边缘、纹理、形状和物体组成等。这些类似的特征对于识别椅子也可能同样有效。\n",
    "\n",
    "本节我们介绍迁移学习中的一种常用技术：微调（fine tuning）。如图9.1所示，微调由以下4步构成。\n",
    "\n",
    "1. 在源数据集（如ImageNet数据集）上预训练一个神经网络模型，即源模型。\n",
    "2. 创建一个新的神经网络模型，即目标模型。它复制了源模型上除了输出层外的所有模型设计及其参数。我们假设这些模型参数包含了源数据集上学习到的知识，且这些知识同样适用于目标数据集。我们还假设源模型的输出层跟源数据集的标签紧密相关，因此在目标模型中不予采用。\n",
    "3. 为目标模型添加一个输出大小为目标数据集类别个数的输出层，并随机初始化该层的模型参数。\n",
    "4. 在目标数据集（如椅子数据集）上训练目标模型。我们将从头训练输出层，而其余层的参数都是基于源模型的参数微调得到的。\n",
    "\n",
    "\n",
    "![Image Name](https://cdn.kesci.com/upload/image/q5u3kayjap.png?imageView2/0/w/640/h/640)\n",
    "\n",
    "\n",
    "当目标数据集远小于源数据集时，微调有助于提升模型的泛化能力。\n",
    "## 9.2.1 热狗识别\n",
    "接下来我们来实践一个具体的例子：热狗识别。我们将基于一个小数据集对在ImageNet数据集上训练好的ResNet模型进行微调。该小数据集含有数千张包含热狗和不包含热狗的图像。我们将使用微调得到的模型来识别一张图像中是否包含热狗。\n",
    "\n",
    "首先，导入实验所需的包或模块。torchvision的[`models`](https://pytorch.org/docs/stable/torchvision/models.html)包提供了常用的预训练模型。如果希望获取更多的预训练模型，可以使用使用[`pretrained-models.pytorch`](https://github.com/Cadene/pretrained-models.pytorch)仓库。"
   ]
  },
  {
   "cell_type": "code",
   "execution_count": 1,
   "metadata": {
    "ExecuteTime": {
     "end_time": "2019-06-03T14:11:15.965701Z",
     "start_time": "2019-06-03T14:11:00.668216Z"
    },
    "graffitiCellId": "id_z8na5ga",
    "id": "A22EB61504334C46A331FE4DD48D71A4",
    "jupyter": {},
    "scrolled": false,
    "slideshow": {
     "slide_type": "slide"
    },
    "tags": []
   },
   "outputs": [],
   "source": [
    "%matplotlib inline\n",
    "# 导入包\n",
    "import torch\n",
    "from torch import nn, optim\n",
    "from torch.utils.data import Dataset, DataLoader\n",
    "import torchvision\n",
    "from torchvision.datasets import ImageFolder\n",
    "from torchvision import transforms\n",
    "from torchvision import models#预训练模型\n",
    "import os\n",
    "\n",
    "import sys\n",
    "\n",
    "sys.path.append(\"/home/kesci/input/\")\n",
    "import d2lzh1981 as d2l\n",
    "\n",
    "os.environ[\"CUDA_VISIBLE_DEVICES\"] = \"0\"\n",
    "device = torch.device('cuda' if torch.cuda.is_available() else 'cpu')"
   ]
  },
  {
   "cell_type": "markdown",
   "metadata": {
    "graffitiCellId": "id_f2vtc7d",
    "id": "2F33795348734F9E8218B13CDE9D26BC",
    "jupyter": {},
    "mdEditEnable": false,
    "slideshow": {
     "slide_type": "slide"
    },
    "tags": []
   },
   "source": [
    "### 9.2.1.1 获取数据集\n",
    "\n",
    "我们使用的热狗数据集（[点击下载](https://apache-mxnet.s3-accelerate.amazonaws.com/gluon/dataset/hotdog.zip)）是从网上抓取的，它含有1400张包含热狗的正类图像，和同样多包含其他食品的负类图像。各类的1000张图像被用于训练，其余则用于测试。\n",
    "\n",
    "我们首先将压缩后的数据集下载到路径`data_dir`之下，然后在该路径将下载好的数据集解压，得到两个文件夹`hotdog/train`和`hotdog/test`。这两个文件夹下面均有`hotdog`和`not-hotdog`两个类别文件夹，每个类别文件夹里面是图像文件。"
   ]
  },
  {
   "cell_type": "code",
   "execution_count": 2,
   "metadata": {
    "id": "72E3BF8C330E40E6A1F359500E04161F",
    "jupyter": {},
    "scrolled": false,
    "slideshow": {
     "slide_type": "slide"
    },
    "tags": []
   },
   "outputs": [
    {
     "data": {
      "text/plain": [
       "['resnet18-5c106cde.pth']"
      ]
     },
     "execution_count": 2,
     "metadata": {},
     "output_type": "execute_result"
    }
   ],
   "source": [
    "import os\n",
    "os.listdir('/home/kesci/input/resnet185352')"
   ]
  },
  {
   "cell_type": "code",
   "execution_count": 3,
   "metadata": {
    "ExecuteTime": {
     "end_time": "2019-06-03T14:11:15.973612Z",
     "start_time": "2019-06-03T14:11:15.967565Z"
    },
    "graffitiCellId": "id_jn56h0j",
    "id": "F5FD1AB7176845A780EDEFC93BCD77D9",
    "jupyter": {},
    "scrolled": false,
    "slideshow": {
     "slide_type": "slide"
    },
    "tags": []
   },
   "outputs": [
    {
     "data": {
      "text/plain": [
       "['test', 'train']"
      ]
     },
     "execution_count": 3,
     "metadata": {},
     "output_type": "execute_result"
    }
   ],
   "source": [
    "data_dir = '/home/kesci/input/hotdog4014'\n",
    "os.listdir(os.path.join(data_dir, \"hotdog\"))"
   ]
  },
  {
   "cell_type": "markdown",
   "metadata": {
    "graffitiCellId": "id_63yt3a3",
    "id": "5207CF5D40974B068A5D0DCE051A56BF",
    "jupyter": {},
    "mdEditEnable": false,
    "slideshow": {
     "slide_type": "slide"
    },
    "tags": []
   },
   "source": [
    "我们创建两个`ImageFolder`实例来分别读取训练数据集和测试数据集中的所有图像文件。"
   ]
  },
  {
   "cell_type": "code",
   "execution_count": 4,
   "metadata": {
    "ExecuteTime": {
     "end_time": "2019-06-03T14:11:16.061146Z",
     "start_time": "2019-06-03T14:11:15.975384Z"
    },
    "graffitiCellId": "id_ov9qnks",
    "id": "D88D02C66FE74B8D90811AAA6A7DDDB8",
    "jupyter": {},
    "scrolled": false,
    "slideshow": {
     "slide_type": "slide"
    },
    "tags": []
   },
   "outputs": [],
   "source": [
    "train_imgs = ImageFolder(os.path.join(data_dir, 'hotdog/train'))\n",
    "test_imgs = ImageFolder(os.path.join(data_dir, 'hotdog/test'))"
   ]
  },
  {
   "cell_type": "markdown",
   "metadata": {
    "graffitiCellId": "id_5zfl8qy",
    "id": "1E82417FC0E94012A84CD29E6632DE77",
    "jupyter": {},
    "mdEditEnable": false,
    "slideshow": {
     "slide_type": "slide"
    },
    "tags": []
   },
   "source": [
    "下面画出前8张正类图像和最后8张负类图像。可以看到，它们的大小和高宽比各不相同。"
   ]
  },
  {
   "cell_type": "code",
   "execution_count": 6,
   "metadata": {
    "ExecuteTime": {
     "end_time": "2019-06-03T14:11:17.118164Z",
     "start_time": "2019-06-03T14:11:16.062645Z"
    },
    "graffitiCellId": "id_i19y33g",
    "id": "12977C25072E48678693B46BE55C66E6",
    "jupyter": {},
    "scrolled": false,
    "slideshow": {
     "slide_type": "slide"
    },
    "tags": []
   },
   "outputs": [
    {
     "data": {
      "text/html": [
       "<img src=\"https://cdn.kesci.com/rt_upload/12977C25072E48678693B46BE55C66E6/q67hi440id.png\">"
      ],
      "text/plain": [
       "<Figure size 806.4x201.6 with 16 Axes>"
      ]
     },
     "metadata": {
      "needs_background": "light"
     },
     "output_type": "display_data"
    }
   ],
   "source": [
    "hotdogs = [train_imgs[i][0] for i in range(8)]\n",
    "not_hotdogs = [train_imgs[-i - 1][0] for i in range(8)]\n",
    "d2l.show_images(hotdogs + not_hotdogs, 2, 8, scale=1.4)"
   ]
  },
  {
   "cell_type": "code",
   "execution_count": 9,
   "metadata": {
    "id": "C5A6A1FB82184AF8BE9B4BC6636521E7",
    "jupyter": {},
    "scrolled": false,
    "slideshow": {
     "slide_type": "slide"
    },
    "tags": []
   },
   "outputs": [
    {
     "name": "stdout",
     "output_type": "stream",
     "text": [
      "tensor([[[0.5961, 0.2941, 0.5294,  ..., 0.6706, 0.6667, 0.6667],\n",
      "         [0.4510, 0.4706, 0.4314,  ..., 0.6588, 0.6667, 0.6784],\n",
      "         [0.2667, 0.2471, 0.3529,  ..., 0.6588, 0.6588, 0.6706],\n",
      "         ...,\n",
      "         [0.1608, 0.5294, 0.7059,  ..., 0.5569, 0.5333, 0.6157],\n",
      "         [0.6667, 0.4706, 0.4353,  ..., 0.6706, 0.5137, 0.4863],\n",
      "         [0.6314, 0.5451, 0.6392,  ..., 0.5647, 0.6314, 0.5843]],\n",
      "\n",
      "        [[0.5529, 0.2510, 0.4784,  ..., 0.6667, 0.6627, 0.6627],\n",
      "         [0.4078, 0.4275, 0.4000,  ..., 0.6588, 0.6667, 0.6784],\n",
      "         [0.2314, 0.2118, 0.3255,  ..., 0.6588, 0.6588, 0.6667],\n",
      "         ...,\n",
      "         [0.1529, 0.5098, 0.6588,  ..., 0.2941, 0.2784, 0.3725],\n",
      "         [0.3961, 0.2314, 0.2000,  ..., 0.4157, 0.2667, 0.2392],\n",
      "         [0.3529, 0.2784, 0.3882,  ..., 0.3255, 0.3922, 0.3333]],\n",
      "\n",
      "        [[0.4667, 0.1647, 0.4039,  ..., 0.6863, 0.6824, 0.6824],\n",
      "         [0.3373, 0.3569, 0.3255,  ..., 0.6902, 0.6980, 0.7098],\n",
      "         [0.1725, 0.1529, 0.2627,  ..., 0.6902, 0.6902, 0.6980],\n",
      "         ...,\n",
      "         [0.3373, 0.6353, 0.7373,  ..., 0.0784, 0.0588, 0.1490],\n",
      "         [0.2745, 0.1176, 0.1608,  ..., 0.1961, 0.0588, 0.0314],\n",
      "         [0.1333, 0.0235, 0.1059,  ..., 0.0706, 0.1373, 0.0824]]])\n"
     ]
    }
   ],
   "source": [
    "print(transforms.ToTensor()(train_imgs[0][0]))"
   ]
  },
  {
   "cell_type": "markdown",
   "metadata": {
    "graffitiCellId": "id_mifh1bm",
    "id": "1A77677F71E1428883FBF6CA7365F347",
    "jupyter": {},
    "mdEditEnable": false,
    "slideshow": {
     "slide_type": "slide"
    },
    "tags": []
   },
   "source": [
    "在训练时，我们先从图像中裁剪出随机大小和随机高宽比的一块随机区域，然后将该区域缩放为高和宽均为224像素的输入。测试时，我们将图像的高和宽均缩放为256像素，然后从中裁剪出高和宽均为224像素的中心区域作为输入。此外，我们对RGB（红、绿、蓝）三个颜色通道的数值做标准化：每个数值减去该通道所有数值的平均值，再除以该通道所有数值的标准差作为输出。\n",
    "> 注: 在使用预训练模型时，一定要和预训练时作同样的预处理。\n",
    "如果你使用的是`torchvision`的`models`，那就要求:\n",
    "    All pre-trained models expect input images normalized in the same way, i.e. mini-batches of 3-channel RGB images of shape (3 x H x W), where H and W are expected to be at least 224. The images have to be loaded in to a range of [0, 1] and then normalized using mean = [0.485, 0.456, 0.406] and std = [0.229, 0.224, 0.225].\n",
    "所有经过预训练的模型都希望输入图像以相同的方式归一化，即形状为（3 x H x W）的3通道RGB图像的迷你批，其中H和W至少应为224。 加载到[0，1]的范围内，然后使用均值= [0.485，0.456，0.406]和std = [0.229，0.224，0.225]进行归一化。"
   ]
  },
  {
   "cell_type": "code",
   "execution_count": 10,
   "metadata": {
    "ExecuteTime": {
     "end_time": "2019-06-03T14:11:17.123685Z",
     "start_time": "2019-06-03T14:11:17.119781Z"
    },
    "graffitiCellId": "id_pyb483s",
    "id": "039AF60E364143408F245FEEE3BA7427",
    "jupyter": {},
    "scrolled": false,
    "slideshow": {
     "slide_type": "slide"
    },
    "tags": []
   },
   "outputs": [],
   "source": [
    "normalize = transforms.Normalize(mean=[0.485, 0.456, 0.406], std=[0.229, 0.224, 0.225])# 归一化\n",
    "train_augs = transforms.Compose([\n",
    "        transforms.RandomResizedCrop(size=224),\n",
    "        transforms.RandomHorizontalFlip(),\n",
    "        transforms.ToTensor(),\n",
    "        normalize\n",
    "    ])\n",
    " \n",
    "test_augs = transforms.Compose([\n",
    "        transforms.Resize(size=256),\n",
    "        transforms.CenterCrop(size=224),\n",
    "        transforms.ToTensor(),\n",
    "        normalize\n",
    "    ])\n",
    "# 训练集合和测试集合进行归一化"
   ]
  },
  {
   "cell_type": "markdown",
   "metadata": {
    "graffitiCellId": "id_d0jgby8",
    "id": "0E903A73D41D468C98385E05D577A974",
    "jupyter": {},
    "mdEditEnable": false,
    "slideshow": {
     "slide_type": "slide"
    },
    "tags": []
   },
   "source": [
    "### 9.2.1.2 定义和初始化模型\n",
    "我们使用在ImageNet数据集上预训练的ResNet-18作为源模型。这里指定`pretrained=True`来自动下载并加载预训练的模型参数。在第一次使用时需要联网下载模型参数。"
   ]
  },
  {
   "cell_type": "code",
   "execution_count": 11,
   "metadata": {
    "ExecuteTime": {
     "end_time": "2019-06-03T14:11:17.620581Z",
     "start_time": "2019-06-03T14:11:17.125242Z"
    },
    "graffitiCellId": "id_2wnjypl",
    "id": "7DE8400F048E4D7B83EDB2402860373C",
    "jupyter": {},
    "scrolled": false,
    "slideshow": {
     "slide_type": "slide"
    },
    "tags": []
   },
   "outputs": [
    {
     "data": {
      "text/plain": [
       "<All keys matched successfully>"
      ]
     },
     "execution_count": 11,
     "metadata": {},
     "output_type": "execute_result"
    }
   ],
   "source": [
    "pretrained_net = models.resnet18(pretrained=False)\n",
    "pretrained_net.load_state_dict(torch.load('/home/kesci/input/resnet185352/resnet18-5c106cde.pth'))\n",
    "# 这里已经有了,就不用下载了"
   ]
  },
  {
   "cell_type": "markdown",
   "metadata": {
    "graffitiCellId": "id_y23bcx9",
    "id": "0A65F78300D9442C80743D4FD937AFDB",
    "jupyter": {},
    "mdEditEnable": false,
    "slideshow": {
     "slide_type": "slide"
    },
    "tags": []
   },
   "source": [
    "下面打印源模型的成员变量`fc`。作为一个全连接层，它将ResNet最终的全局平均池化层输出变换成ImageNet数据集上1000类的输出。"
   ]
  },
  {
   "cell_type": "code",
   "execution_count": 12,
   "metadata": {
    "ExecuteTime": {
     "end_time": "2019-06-03T14:11:17.624672Z",
     "start_time": "2019-06-03T14:11:17.622216Z"
    },
    "graffitiCellId": "id_pdewfeh",
    "id": "FCC76C3F5BC44187A82F00FBE46C52D5",
    "jupyter": {},
    "scrolled": false,
    "slideshow": {
     "slide_type": "slide"
    },
    "tags": []
   },
   "outputs": [
    {
     "name": "stdout",
     "output_type": "stream",
     "text": [
      "Linear(in_features=512, out_features=1000, bias=True)\n"
     ]
    }
   ],
   "source": [
    "print(pretrained_net.fc)"
   ]
  },
  {
   "cell_type": "markdown",
   "metadata": {
    "graffitiCellId": "id_08mm9nu",
    "id": "EFDF3EB4D4DC426AA486D2070B5703B6",
    "jupyter": {},
    "mdEditEnable": false,
    "slideshow": {
     "slide_type": "slide"
    },
    "tags": []
   },
   "source": [
    "> 注: 如果你使用的是其他模型，那可能没有成员变量`fc`（比如models中的VGG预训练模型），所以正确做法是查看对应模型源码中其定义部分，这样既不会出错也能加深我们对模型的理解。[`pretrained-models.pytorch`](https://github.com/Cadene/pretrained-models.pytorch)仓库貌似统一了接口，但是我还是建议使用时查看一下对应模型的源码。\n",
    "\n",
    "可见此时`pretrained_net`最后的输出个数等于目标数据集的类别数1000。所以我们应该将最后的`fc`成修改我们需要的输出类别数:"
   ]
  },
  {
   "cell_type": "code",
   "execution_count": 13,
   "metadata": {
    "ExecuteTime": {
     "end_time": "2019-06-03T14:11:17.670998Z",
     "start_time": "2019-06-03T14:11:17.62604Z"
    },
    "graffitiCellId": "id_jqn57mk",
    "id": "CED48B9B597943238575B4E7EB97FF9A",
    "jupyter": {},
    "scrolled": false,
    "slideshow": {
     "slide_type": "slide"
    },
    "tags": []
   },
   "outputs": [
    {
     "name": "stdout",
     "output_type": "stream",
     "text": [
      "Linear(in_features=512, out_features=2, bias=True)\n"
     ]
    }
   ],
   "source": [
    "pretrained_net.fc = nn.Linear(512, 2)\n",
    "print(pretrained_net.fc)\n",
    "# fc层,全连接层,输出层"
   ]
  },
  {
   "cell_type": "markdown",
   "metadata": {
    "graffitiCellId": "id_5n2yzbm",
    "id": "6CF341E45F6147E285242B88DE026340",
    "jupyter": {},
    "mdEditEnable": false,
    "slideshow": {
     "slide_type": "slide"
    },
    "tags": []
   },
   "source": [
    "此时，`pretrained_net`的`fc`层就被随机初始化了，但是其他层依然保存着预训练得到的参数。由于是在很大的ImageNet数据集上预训练的，所以参数已经足够好，因此一般只需使用较小的学习率来微调这些参数，而`fc`中的随机初始化参数一般需要更大的学习率从头训练。PyTorch可以方便的对模型的不同部分设置不同的学习参数，我们在下面代码中将`fc`的学习率设为已经预训练过的部分的10倍。"
   ]
  },
  {
   "cell_type": "code",
   "execution_count": 15,
   "metadata": {
    "ExecuteTime": {
     "end_time": "2019-06-03T14:11:17.7165Z",
     "start_time": "2019-06-03T14:11:17.672667Z"
    },
    "graffitiCellId": "id_wdjzrzf",
    "id": "3983C0F1EE7842C7A33B46A26E3A1AA1",
    "jupyter": {},
    "scrolled": false,
    "slideshow": {
     "slide_type": "slide"
    },
    "tags": []
   },
   "outputs": [],
   "source": [
    "output_params = list(map(id, pretrained_net.fc.parameters()))\n",
    "feature_params = filter(lambda p: id(p) not in output_params, pretrained_net.parameters())\n",
    "\n",
    "lr = 0.01\n",
    "optimizer = optim.SGD([{'params': feature_params},\n",
    "                       {'params': pretrained_net.fc.parameters(), 'lr': lr * 10}],\n",
    "                       lr=lr, weight_decay=0.001)\n",
    "                       # 最后一层fc的训练步长要更长"
   ]
  },
  {
   "cell_type": "markdown",
   "metadata": {
    "graffitiCellId": "id_gume284",
    "id": "DFFE1E5B9D96425D947CBD68133EB188",
    "jupyter": {},
    "mdEditEnable": false,
    "slideshow": {
     "slide_type": "slide"
    },
    "tags": []
   },
   "source": [
    "### 9.2.1.3 微调模型"
   ]
  },
  {
   "cell_type": "code",
   "execution_count": 16,
   "metadata": {
    "ExecuteTime": {
     "end_time": "2019-06-03T14:11:17.761943Z",
     "start_time": "2019-06-03T14:11:17.718154Z"
    },
    "graffitiCellId": "id_bltohy2",
    "id": "368CB1E826C44085963D59F927B24A28",
    "jupyter": {},
    "scrolled": false,
    "slideshow": {
     "slide_type": "slide"
    },
    "tags": []
   },
   "outputs": [],
   "source": [
    "def train_fine_tuning(net, optimizer, batch_size=128, num_epochs=5):\n",
    "    train_iter = DataLoader(ImageFolder(os.path.join(data_dir, 'hotdog/train'), transform=train_augs),\n",
    "                            batch_size, shuffle=True)\n",
    "    test_iter = DataLoader(ImageFolder(os.path.join(data_dir, 'hotdog/test'), transform=test_augs),\n",
    "                           batch_size)\n",
    "    loss = torch.nn.CrossEntropyLoss()\n",
    "    d2l.train(train_iter, test_iter, net, loss, optimizer, device, num_epochs)"
   ]
  },
  {
   "cell_type": "code",
   "execution_count": 17,
   "metadata": {
    "ExecuteTime": {
     "end_time": "2019-06-03T14:13:52.316406Z",
     "start_time": "2019-06-03T14:11:17.763719Z"
    },
    "graffitiCellId": "id_zrcnqll",
    "id": "91A097D7ECA8467E850CFAA029B96A1F",
    "jupyter": {},
    "scrolled": false,
    "slideshow": {
     "slide_type": "slide"
    },
    "tags": []
   },
   "outputs": [
    {
     "name": "stdout",
     "output_type": "stream",
     "text": [
      "training on  cpu\n",
      "epoch 1, loss 3.4516, train acc 0.687, test acc 0.884, time 298.2 sec\n",
      "epoch 2, loss 0.1550, train acc 0.924, test acc 0.895, time 296.2 sec\n",
      "epoch 3, loss 0.1028, train acc 0.903, test acc 0.950, time 295.0 sec\n",
      "epoch 4, loss 0.0495, train acc 0.931, test acc 0.897, time 294.0 sec\n",
      "epoch 5, loss 0.1454, train acc 0.878, test acc 0.939, time 291.0 sec\n"
     ]
    }
   ],
   "source": [
    "train_fine_tuning(pretrained_net, optimizer)"
   ]
  },
  {
   "cell_type": "markdown",
   "metadata": {
    "graffitiCellId": "id_dx3e2j7",
    "id": "AC152558701E43E58A1E4F1D32A7972D",
    "jupyter": {},
    "mdEditEnable": false,
    "slideshow": {
     "slide_type": "slide"
    },
    "tags": []
   },
   "source": [
    "作为对比，我们定义一个相同的模型，但将它的所有模型参数都初始化为随机值。由于整个模型都需要从头训练，我们可以使用较大的学习率。"
   ]
  },
  {
   "cell_type": "code",
   "execution_count": 18,
   "metadata": {
    "ExecuteTime": {
     "end_time": "2019-06-03T14:15:57.891925Z",
     "start_time": "2019-06-03T14:13:52.31914Z"
    },
    "graffitiCellId": "id_eqp7xil",
    "id": "667EE8ADB1A04E7989F0075057C20CB6",
    "jupyter": {},
    "scrolled": false,
    "slideshow": {
     "slide_type": "slide"
    },
    "tags": []
   },
   "outputs": [
    {
     "name": "stdout",
     "output_type": "stream",
     "text": [
      "training on  cpu\n",
      "epoch 1, loss 2.6391, train acc 0.598, test acc 0.734, time 292.4 sec\n",
      "epoch 2, loss 0.2703, train acc 0.790, test acc 0.632, time 289.7 sec\n",
      "epoch 3, loss 0.1584, train acc 0.810, test acc 0.825, time 290.2 sec\n",
      "epoch 4, loss 0.1177, train acc 0.805, test acc 0.787, time 288.6 sec\n",
      "epoch 5, loss 0.0782, train acc 0.829, test acc 0.828, time 289.8 sec\n"
     ]
    }
   ],
   "source": [
    "scratch_net = models.resnet18(pretrained=False, num_classes=2)\n",
    "lr = 0.1\n",
    "optimizer = optim.SGD(scratch_net.parameters(), lr=lr, weight_decay=0.001)\n",
    "train_fine_tuning(scratch_net, optimizer)"
   ]
  },
  {
   "cell_type": "markdown",
   "metadata": {
    "graffitiCellId": "id_2uwgmz3",
    "id": "61478BA949B04BE0AEAC76AF2738B305",
    "jupyter": {},
    "mdEditEnable": false,
    "slideshow": {
     "slide_type": "slide"
    },
    "tags": []
   },
   "source": [
    "输出：\n",
    "```\n",
    "training on  cuda\n",
    "epoch 1, loss 2.6686, train acc 0.582, test acc 0.556, time 25.3 sec\n",
    "epoch 2, loss 0.2434, train acc 0.797, test acc 0.776, time 25.3 sec\n",
    "epoch 3, loss 0.1251, train acc 0.845, test acc 0.802, time 24.9 sec\n",
    "epoch 4, loss 0.0958, train acc 0.833, test acc 0.810, time 25.0 sec\n",
    "epoch 5, loss 0.0757, train acc 0.836, test acc 0.780, time 24.9 sec\n",
    "```"
   ]
  }
 ],
 "metadata": {
  "kernelspec": {
   "display_name": "Python 3",
   "language": "python",
   "name": "python3"
  },
  "language_info": {
   "codemirror_mode": {
    "name": "ipython",
    "version": 3
   },
   "file_extension": ".py",
   "mimetype": "text/x-python",
   "name": "python",
   "nbconvert_exporter": "python",
   "pygments_lexer": "ipython3",
   "version": "3.7.4"
  }
 },
 "nbformat": 4,
 "nbformat_minor": 1
}
